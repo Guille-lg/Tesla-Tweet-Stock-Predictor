{
 "cells": [
  {
   "cell_type": "markdown",
   "metadata": {},
   "source": [
    "# Preprocesamiento de datos (Tweets)\n",
    "\n",
    "En este notebook se realiza el preprocesamiento de los datos que contienen los tweets para el entrenamiento de los modelos de aprendizaje automático extraidos de HuggingFace. Los datos han dido extraídos de la plataforma de Kaggle, en el siguiente [enlace](https://www.kaggle.com/datasets/alishafaghi/hashtag-tesla-tweets). El dataset contiene más de 150.000 tweets etiquetados con #tesla.\n",
    "\n",
    "El objetivo es obtener un dataset con una única columna de tweets en inglés, para su posterior etiquetado por parte del alumno. El etiquetado de datos será discutido en la memoria, y realizado en los scripts de la carpeta `labelling`."
   ]
  },
  {
   "cell_type": "code",
   "execution_count": 1,
   "metadata": {},
   "outputs": [
    {
     "ename": "KeyboardInterrupt",
     "evalue": "",
     "output_type": "error",
     "traceback": [
      "\u001b[1;31m---------------------------------------------------------------------------\u001b[0m",
      "\u001b[1;31mKeyboardInterrupt\u001b[0m                         Traceback (most recent call last)",
      "\u001b[1;32mc:\\Users\\34644\\Desktop\\Cursos\\Curso_CEI\\Tesla-Tweet-Stock-Predictor\\src\\preprocessing\\data_preprocessing.ipynb Cell 2\u001b[0m line \u001b[0;36m7\n\u001b[0;32m      <a href='vscode-notebook-cell:/c%3A/Users/34644/Desktop/Cursos/Curso_CEI/Tesla-Tweet-Stock-Predictor/src/preprocessing/data_preprocessing.ipynb#W1sZmlsZQ%3D%3D?line=4'>5</a>\u001b[0m \u001b[39mimport\u001b[39;00m \u001b[39mstring\u001b[39;00m\n\u001b[0;32m      <a href='vscode-notebook-cell:/c%3A/Users/34644/Desktop/Cursos/Curso_CEI/Tesla-Tweet-Stock-Predictor/src/preprocessing/data_preprocessing.ipynb#W1sZmlsZQ%3D%3D?line=5'>6</a>\u001b[0m \u001b[39mimport\u001b[39;00m \u001b[39mtime\u001b[39;00m\n\u001b[1;32m----> <a href='vscode-notebook-cell:/c%3A/Users/34644/Desktop/Cursos/Curso_CEI/Tesla-Tweet-Stock-Predictor/src/preprocessing/data_preprocessing.ipynb#W1sZmlsZQ%3D%3D?line=6'>7</a>\u001b[0m \u001b[39mfrom\u001b[39;00m \u001b[39msklearn\u001b[39;00m\u001b[39m.\u001b[39;00m\u001b[39mpreprocessing\u001b[39;00m \u001b[39mimport\u001b[39;00m MinMaxScaler\n\u001b[0;32m      <a href='vscode-notebook-cell:/c%3A/Users/34644/Desktop/Cursos/Curso_CEI/Tesla-Tweet-Stock-Predictor/src/preprocessing/data_preprocessing.ipynb#W1sZmlsZQ%3D%3D?line=7'>8</a>\u001b[0m \u001b[39mfrom\u001b[39;00m \u001b[39msklearn\u001b[39;00m\u001b[39m.\u001b[39;00m\u001b[39mdecomposition\u001b[39;00m \u001b[39mimport\u001b[39;00m PCA\n\u001b[0;32m      <a href='vscode-notebook-cell:/c%3A/Users/34644/Desktop/Cursos/Curso_CEI/Tesla-Tweet-Stock-Predictor/src/preprocessing/data_preprocessing.ipynb#W1sZmlsZQ%3D%3D?line=8'>9</a>\u001b[0m \u001b[39mimport\u001b[39;00m \u001b[39mnltk\u001b[39;00m\n",
      "File \u001b[1;32mc:\\Users\\34644\\AppData\\Local\\Programs\\Python\\Python311\\Lib\\site-packages\\sklearn\\__init__.py:82\u001b[0m\n\u001b[0;32m     80\u001b[0m \u001b[39mfrom\u001b[39;00m \u001b[39m.\u001b[39;00m \u001b[39mimport\u001b[39;00m _distributor_init  \u001b[39m# noqa: F401\u001b[39;00m\n\u001b[0;32m     81\u001b[0m \u001b[39mfrom\u001b[39;00m \u001b[39m.\u001b[39;00m \u001b[39mimport\u001b[39;00m __check_build  \u001b[39m# noqa: F401\u001b[39;00m\n\u001b[1;32m---> 82\u001b[0m \u001b[39mfrom\u001b[39;00m \u001b[39m.\u001b[39;00m\u001b[39mbase\u001b[39;00m \u001b[39mimport\u001b[39;00m clone\n\u001b[0;32m     83\u001b[0m \u001b[39mfrom\u001b[39;00m \u001b[39m.\u001b[39;00m\u001b[39mutils\u001b[39;00m\u001b[39m.\u001b[39;00m\u001b[39m_show_versions\u001b[39;00m \u001b[39mimport\u001b[39;00m show_versions\n\u001b[0;32m     85\u001b[0m __all__ \u001b[39m=\u001b[39m [\n\u001b[0;32m     86\u001b[0m     \u001b[39m\"\u001b[39m\u001b[39mcalibration\u001b[39m\u001b[39m\"\u001b[39m,\n\u001b[0;32m     87\u001b[0m     \u001b[39m\"\u001b[39m\u001b[39mcluster\u001b[39m\u001b[39m\"\u001b[39m,\n\u001b[1;32m   (...)\u001b[0m\n\u001b[0;32m    128\u001b[0m     \u001b[39m\"\u001b[39m\u001b[39mshow_versions\u001b[39m\u001b[39m\"\u001b[39m,\n\u001b[0;32m    129\u001b[0m ]\n",
      "File \u001b[1;32mc:\\Users\\34644\\AppData\\Local\\Programs\\Python\\Python311\\Lib\\site-packages\\sklearn\\base.py:17\u001b[0m\n\u001b[0;32m     15\u001b[0m \u001b[39mfrom\u001b[39;00m \u001b[39m.\u001b[39;00m \u001b[39mimport\u001b[39;00m __version__\n\u001b[0;32m     16\u001b[0m \u001b[39mfrom\u001b[39;00m \u001b[39m.\u001b[39;00m\u001b[39m_config\u001b[39;00m \u001b[39mimport\u001b[39;00m get_config\n\u001b[1;32m---> 17\u001b[0m \u001b[39mfrom\u001b[39;00m \u001b[39m.\u001b[39;00m\u001b[39mutils\u001b[39;00m \u001b[39mimport\u001b[39;00m _IS_32BIT\n\u001b[0;32m     18\u001b[0m \u001b[39mfrom\u001b[39;00m \u001b[39m.\u001b[39;00m\u001b[39mutils\u001b[39;00m\u001b[39m.\u001b[39;00m\u001b[39m_set_output\u001b[39;00m \u001b[39mimport\u001b[39;00m _SetOutputMixin\n\u001b[0;32m     19\u001b[0m \u001b[39mfrom\u001b[39;00m \u001b[39m.\u001b[39;00m\u001b[39mutils\u001b[39;00m\u001b[39m.\u001b[39;00m\u001b[39m_tags\u001b[39;00m \u001b[39mimport\u001b[39;00m (\n\u001b[0;32m     20\u001b[0m     _DEFAULT_TAGS,\n\u001b[0;32m     21\u001b[0m )\n",
      "File \u001b[1;32mc:\\Users\\34644\\AppData\\Local\\Programs\\Python\\Python311\\Lib\\site-packages\\sklearn\\utils\\__init__.py:17\u001b[0m\n\u001b[0;32m     15\u001b[0m \u001b[39mimport\u001b[39;00m \u001b[39mwarnings\u001b[39;00m\n\u001b[0;32m     16\u001b[0m \u001b[39mimport\u001b[39;00m \u001b[39mnumpy\u001b[39;00m \u001b[39mas\u001b[39;00m \u001b[39mnp\u001b[39;00m\n\u001b[1;32m---> 17\u001b[0m \u001b[39mfrom\u001b[39;00m \u001b[39mscipy\u001b[39;00m\u001b[39m.\u001b[39;00m\u001b[39msparse\u001b[39;00m \u001b[39mimport\u001b[39;00m issparse\n\u001b[0;32m     19\u001b[0m \u001b[39mfrom\u001b[39;00m \u001b[39m.\u001b[39;00m\u001b[39mmurmurhash\u001b[39;00m \u001b[39mimport\u001b[39;00m murmurhash3_32\n\u001b[0;32m     20\u001b[0m \u001b[39mfrom\u001b[39;00m \u001b[39m.\u001b[39;00m\u001b[39mclass_weight\u001b[39;00m \u001b[39mimport\u001b[39;00m compute_class_weight, compute_sample_weight\n",
      "File \u001b[1;32mc:\\Users\\34644\\AppData\\Local\\Programs\\Python\\Python311\\Lib\\site-packages\\scipy\\__init__.py:158\u001b[0m\n\u001b[0;32m    155\u001b[0m \u001b[39mfrom\u001b[39;00m \u001b[39mscipy\u001b[39;00m\u001b[39m.\u001b[39;00m\u001b[39mversion\u001b[39;00m \u001b[39mimport\u001b[39;00m version \u001b[39mas\u001b[39;00m __version__\n\u001b[0;32m    157\u001b[0m \u001b[39m# Allow distributors to run custom init code\u001b[39;00m\n\u001b[1;32m--> 158\u001b[0m \u001b[39mfrom\u001b[39;00m \u001b[39m.\u001b[39;00m \u001b[39mimport\u001b[39;00m _distributor_init\n\u001b[0;32m    159\u001b[0m \u001b[39mdel\u001b[39;00m _distributor_init\n\u001b[0;32m    161\u001b[0m \u001b[39mfrom\u001b[39;00m \u001b[39mscipy\u001b[39;00m\u001b[39m.\u001b[39;00m\u001b[39m_lib\u001b[39;00m \u001b[39mimport\u001b[39;00m _pep440\n",
      "File \u001b[1;32mc:\\Users\\34644\\AppData\\Local\\Programs\\Python\\Python311\\Lib\\site-packages\\scipy\\_distributor_init.py:28\u001b[0m\n\u001b[0;32m     26\u001b[0m         WinDLL(os\u001b[39m.\u001b[39mpath\u001b[39m.\u001b[39mabspath(filename))\n\u001b[0;32m     27\u001b[0m         DLL_filenames\u001b[39m.\u001b[39mappend(filename)\n\u001b[1;32m---> 28\u001b[0m \u001b[39mif\u001b[39;00m \u001b[39mlen\u001b[39;49m(DLL_filenames) \u001b[39m>\u001b[39m \u001b[39m1\u001b[39m:\n\u001b[0;32m     29\u001b[0m     \u001b[39mimport\u001b[39;00m \u001b[39mwarnings\u001b[39;00m\n\u001b[0;32m     30\u001b[0m     warnings\u001b[39m.\u001b[39mwarn(\u001b[39m\"\u001b[39m\u001b[39mloaded more than 1 DLL from .libs:\u001b[39m\u001b[39m\"\u001b[39m\n\u001b[0;32m     31\u001b[0m                   \u001b[39m\"\u001b[39m\u001b[39m\\n\u001b[39;00m\u001b[39m%s\u001b[39;00m\u001b[39m\"\u001b[39m \u001b[39m%\u001b[39m \u001b[39m\"\u001b[39m\u001b[39m\\n\u001b[39;00m\u001b[39m\"\u001b[39m\u001b[39m.\u001b[39mjoin(DLL_filenames),\n\u001b[0;32m     32\u001b[0m                   stacklevel\u001b[39m=\u001b[39m\u001b[39m1\u001b[39m)\n",
      "\u001b[1;31mKeyboardInterrupt\u001b[0m: "
     ]
    }
   ],
   "source": [
    "import pandas as pd\n",
    "import yfinance as yf\n",
    "from langdetect import detect\n",
    "import preprocessor as p\n",
    "import string\n",
    "import time\n",
    "from sklearn.preprocessing import MinMaxScaler\n",
    "from sklearn.decomposition import PCA\n",
    "import nltk\n",
    "from nltk.corpus import stopwords\n",
    "\n",
    "\n",
    "nltk.download('stopwords')\n",
    "p.set_options(p.OPT.URL, p.OPT.EMOJI, p.OPT.MENTION, p.OPT.RESERVED, p.OPT.SMILEY, p.OPT.NUMBER)"
   ]
  },
  {
   "cell_type": "markdown",
   "metadata": {},
   "source": [
    "## Preprocesamiento del dataset de tweets"
   ]
  },
  {
   "cell_type": "markdown",
   "metadata": {},
   "source": [
    "### Overview\n",
    "\n",
    "En esta sección se realiza la carga de datos y análisis de alto nivel del datafrfame"
   ]
  },
  {
   "cell_type": "code",
   "execution_count": null,
   "metadata": {},
   "outputs": [
    {
     "data": {
      "text/html": [
       "<div>\n",
       "<style scoped>\n",
       "    .dataframe tbody tr th:only-of-type {\n",
       "        vertical-align: middle;\n",
       "    }\n",
       "\n",
       "    .dataframe tbody tr th {\n",
       "        vertical-align: top;\n",
       "    }\n",
       "\n",
       "    .dataframe thead th {\n",
       "        text-align: right;\n",
       "    }\n",
       "</style>\n",
       "<table border=\"1\" class=\"dataframe\">\n",
       "  <thead>\n",
       "    <tr style=\"text-align: right;\">\n",
       "      <th></th>\n",
       "      <th>Date &amp; Time</th>\n",
       "      <th>Profile Picture Link</th>\n",
       "      <th>Twitter ID</th>\n",
       "      <th>Tweet Text</th>\n",
       "      <th>Tweet Link</th>\n",
       "    </tr>\n",
       "  </thead>\n",
       "  <tbody>\n",
       "    <tr>\n",
       "      <th>51865</th>\n",
       "      <td>June 25, 2022 at 01:06AM</td>\n",
       "      <td>http://pbs.twimg.com/profile_images/346791608...</td>\n",
       "      <td>@MapleDee</td>\n",
       "      <td>RT @YRP: A LITTLE MORE MONEY THAN SENSE: A $19...</td>\n",
       "      <td>https://twitter.com/MapleDee/status/1540433784...</td>\n",
       "    </tr>\n",
       "    <tr>\n",
       "      <th>73629</th>\n",
       "      <td>July 25, 2022 at 08:20AM</td>\n",
       "      <td>http://pbs.twimg.com/profile_images/139665024...</td>\n",
       "      <td>@RahulNe11595917</td>\n",
       "      <td>RT @ani_digital: Elon Musk had an affair with ...</td>\n",
       "      <td>https://twitter.com/RahulNe11595917/status/155...</td>\n",
       "    </tr>\n",
       "    <tr>\n",
       "      <th>100114</th>\n",
       "      <td>August 31, 2022 at 08:17PM</td>\n",
       "      <td>http://pbs.twimg.com/profile_images/153866697...</td>\n",
       "      <td>@franksleash08</td>\n",
       "      <td>#USA #RUS #CN #JP #SA #KOR #PAR #UK\\n#DXB #DEU...</td>\n",
       "      <td>https://twitter.com/franksleash08/status/15650...</td>\n",
       "    </tr>\n",
       "    <tr>\n",
       "      <th>12521</th>\n",
       "      <td>April 30, 2022 at 02:20PM</td>\n",
       "      <td>http://pbs.twimg.com/profile_images/151448831...</td>\n",
       "      <td>@InterMinabileXa</td>\n",
       "      <td>RT @Mentegatto1: @InterMinabileXa @elonmusk @I...</td>\n",
       "      <td>https://twitter.com/InterMinabileXa/status/152...</td>\n",
       "    </tr>\n",
       "    <tr>\n",
       "      <th>67343</th>\n",
       "      <td>July 16, 2022 at 02:17PM</td>\n",
       "      <td>http://pbs.twimg.com/profile_images/412169901...</td>\n",
       "      <td>@ProVega350</td>\n",
       "      <td>It's time for leadership in #America. Making t...</td>\n",
       "      <td>https://twitter.com/ProVega350/status/15482428...</td>\n",
       "    </tr>\n",
       "  </tbody>\n",
       "</table>\n",
       "</div>"
      ],
      "text/plain": [
       "                       Date & Time  \\\n",
       "51865     June 25, 2022 at 01:06AM   \n",
       "73629     July 25, 2022 at 08:20AM   \n",
       "100114  August 31, 2022 at 08:17PM   \n",
       "12521    April 30, 2022 at 02:20PM   \n",
       "67343     July 16, 2022 at 02:17PM   \n",
       "\n",
       "                                     Profile Picture Link        Twitter ID  \\\n",
       "51865    http://pbs.twimg.com/profile_images/346791608...         @MapleDee   \n",
       "73629    http://pbs.twimg.com/profile_images/139665024...  @RahulNe11595917   \n",
       "100114   http://pbs.twimg.com/profile_images/153866697...    @franksleash08   \n",
       "12521    http://pbs.twimg.com/profile_images/151448831...  @InterMinabileXa   \n",
       "67343    http://pbs.twimg.com/profile_images/412169901...       @ProVega350   \n",
       "\n",
       "                                               Tweet Text  \\\n",
       "51865   RT @YRP: A LITTLE MORE MONEY THAN SENSE: A $19...   \n",
       "73629   RT @ani_digital: Elon Musk had an affair with ...   \n",
       "100114  #USA #RUS #CN #JP #SA #KOR #PAR #UK\\n#DXB #DEU...   \n",
       "12521   RT @Mentegatto1: @InterMinabileXa @elonmusk @I...   \n",
       "67343   It's time for leadership in #America. Making t...   \n",
       "\n",
       "                                               Tweet Link  \n",
       "51865   https://twitter.com/MapleDee/status/1540433784...  \n",
       "73629   https://twitter.com/RahulNe11595917/status/155...  \n",
       "100114  https://twitter.com/franksleash08/status/15650...  \n",
       "12521   https://twitter.com/InterMinabileXa/status/152...  \n",
       "67343   https://twitter.com/ProVega350/status/15482428...  "
      ]
     },
     "execution_count": 2,
     "metadata": {},
     "output_type": "execute_result"
    }
   ],
   "source": [
    "df_tweets = pd.read_csv('../../data/raw/tesla_tweets.csv')\n",
    "df_tweets.sample(5)"
   ]
  },
  {
   "cell_type": "markdown",
   "metadata": {},
   "source": [
    "Como lo único que nos interesa es la columna de texto y su id, se descartan las demás columnas y se establece el tweet de cada post como índice del dataframe."
   ]
  },
  {
   "cell_type": "code",
   "execution_count": null,
   "metadata": {},
   "outputs": [
    {
     "data": {
      "text/html": [
       "<div>\n",
       "<style scoped>\n",
       "    .dataframe tbody tr th:only-of-type {\n",
       "        vertical-align: middle;\n",
       "    }\n",
       "\n",
       "    .dataframe tbody tr th {\n",
       "        vertical-align: top;\n",
       "    }\n",
       "\n",
       "    .dataframe thead th {\n",
       "        text-align: right;\n",
       "    }\n",
       "</style>\n",
       "<table border=\"1\" class=\"dataframe\">\n",
       "  <thead>\n",
       "    <tr style=\"text-align: right;\">\n",
       "      <th></th>\n",
       "      <th>Link</th>\n",
       "      <th>Date</th>\n",
       "      <th>Text</th>\n",
       "    </tr>\n",
       "  </thead>\n",
       "  <tbody>\n",
       "    <tr>\n",
       "      <th>10725</th>\n",
       "      <td>https://twitter.com/crandypants/status/1518360...</td>\n",
       "      <td>April 25, 2022 at 03:14AM</td>\n",
       "      <td>RT @Gangpeh76: @crandypants @elonmusk @WholeMa...</td>\n",
       "    </tr>\n",
       "    <tr>\n",
       "      <th>18124</th>\n",
       "      <td>https://twitter.com/wendy53581/status/15232075...</td>\n",
       "      <td>May 08, 2022 at 12:16PM</td>\n",
       "      <td>RT @Wanli_Xiong: Hug Mother’s Day! #Tesla @elo...</td>\n",
       "    </tr>\n",
       "    <tr>\n",
       "      <th>21756</th>\n",
       "      <td>https://twitter.com/serkankaradag80/status/152...</td>\n",
       "      <td>May 14, 2022 at 12:08AM</td>\n",
       "      <td>Twitter ne yapsın,coinlerdeki sert düşüşte fay...</td>\n",
       "    </tr>\n",
       "    <tr>\n",
       "      <th>14316</th>\n",
       "      <td>https://twitter.com/EnriqueSimo28/status/15212...</td>\n",
       "      <td>May 03, 2022 at 04:10AM</td>\n",
       "      <td>RT @GerberKawasaki: Hey @elonmusk what if we w...</td>\n",
       "    </tr>\n",
       "    <tr>\n",
       "      <th>108329</th>\n",
       "      <td>https://twitter.com/Gambiste1/status/156915574...</td>\n",
       "      <td>September 12, 2022 at 07:17AM</td>\n",
       "      <td>RT @KentaroYamada5: #Tesla would likely also b...</td>\n",
       "    </tr>\n",
       "  </tbody>\n",
       "</table>\n",
       "</div>"
      ],
      "text/plain": [
       "                                                     Link  \\\n",
       "10725   https://twitter.com/crandypants/status/1518360...   \n",
       "18124   https://twitter.com/wendy53581/status/15232075...   \n",
       "21756   https://twitter.com/serkankaradag80/status/152...   \n",
       "14316   https://twitter.com/EnriqueSimo28/status/15212...   \n",
       "108329  https://twitter.com/Gambiste1/status/156915574...   \n",
       "\n",
       "                                 Date  \\\n",
       "10725       April 25, 2022 at 03:14AM   \n",
       "18124         May 08, 2022 at 12:16PM   \n",
       "21756         May 14, 2022 at 12:08AM   \n",
       "14316         May 03, 2022 at 04:10AM   \n",
       "108329  September 12, 2022 at 07:17AM   \n",
       "\n",
       "                                                     Text  \n",
       "10725   RT @Gangpeh76: @crandypants @elonmusk @WholeMa...  \n",
       "18124   RT @Wanli_Xiong: Hug Mother’s Day! #Tesla @elo...  \n",
       "21756   Twitter ne yapsın,coinlerdeki sert düşüşte fay...  \n",
       "14316   RT @GerberKawasaki: Hey @elonmusk what if we w...  \n",
       "108329  RT @KentaroYamada5: #Tesla would likely also b...  "
      ]
     },
     "execution_count": 3,
     "metadata": {},
     "output_type": "execute_result"
    }
   ],
   "source": [
    "\n",
    "selected_columns = ['Tweet Link','Date & Time','Tweet Text']\n",
    "df_tweets = df_tweets[selected_columns]\n",
    "df_tweets.rename(columns={'Tweet Text':'Text', 'Tweet Link' : 'Link', 'Date & Time' : 'Date'}, inplace=True)\n",
    "df_tweets.sample(5)"
   ]
  },
  {
   "cell_type": "code",
   "execution_count": null,
   "metadata": {},
   "outputs": [
    {
     "name": "stdout",
     "output_type": "stream",
     "text": [
      "<class 'pandas.core.frame.DataFrame'>\n",
      "RangeIndex: 152000 entries, 0 to 151999\n",
      "Data columns (total 3 columns):\n",
      " #   Column  Non-Null Count   Dtype \n",
      "---  ------  --------------   ----- \n",
      " 0   Link    152000 non-null  object\n",
      " 1   Date    152000 non-null  object\n",
      " 2   Text    152000 non-null  object\n",
      "dtypes: object(3)\n",
      "memory usage: 3.5+ MB\n"
     ]
    }
   ],
   "source": [
    "df_tweets.info()"
   ]
  },
  {
   "cell_type": "markdown",
   "metadata": {},
   "source": [
    "Comprobamos que la columna de fecha no está en formato datetime, por lo que se convierte a dicho formato. "
   ]
  },
  {
   "cell_type": "code",
   "execution_count": null,
   "metadata": {},
   "outputs": [
    {
     "name": "stdout",
     "output_type": "stream",
     "text": [
      "<class 'pandas.core.frame.DataFrame'>\n",
      "RangeIndex: 152000 entries, 0 to 151999\n",
      "Data columns (total 3 columns):\n",
      " #   Column  Non-Null Count   Dtype         \n",
      "---  ------  --------------   -----         \n",
      " 0   Link    152000 non-null  object        \n",
      " 1   Date    152000 non-null  datetime64[ns]\n",
      " 2   Text    152000 non-null  object        \n",
      "dtypes: datetime64[ns](1), object(2)\n",
      "memory usage: 3.5+ MB\n",
      "None\n"
     ]
    },
    {
     "data": {
      "text/html": [
       "<div>\n",
       "<style scoped>\n",
       "    .dataframe tbody tr th:only-of-type {\n",
       "        vertical-align: middle;\n",
       "    }\n",
       "\n",
       "    .dataframe tbody tr th {\n",
       "        vertical-align: top;\n",
       "    }\n",
       "\n",
       "    .dataframe thead th {\n",
       "        text-align: right;\n",
       "    }\n",
       "</style>\n",
       "<table border=\"1\" class=\"dataframe\">\n",
       "  <thead>\n",
       "    <tr style=\"text-align: right;\">\n",
       "      <th></th>\n",
       "      <th>Link</th>\n",
       "      <th>Date</th>\n",
       "      <th>Text</th>\n",
       "    </tr>\n",
       "  </thead>\n",
       "  <tbody>\n",
       "    <tr>\n",
       "      <th>0</th>\n",
       "      <td>https://twitter.com/Jessica1988kk/status/15131...</td>\n",
       "      <td>2022-04-10 19:44:00</td>\n",
       "      <td>RT @invest_answers: Crypto news, #Bitcoin Whal...</td>\n",
       "    </tr>\n",
       "    <tr>\n",
       "      <th>1</th>\n",
       "      <td>https://twitter.com/JotaGe2014/status/15131737...</td>\n",
       "      <td>2022-04-10 19:45:00</td>\n",
       "      <td>#Tesla tiene récord de autos vendidos. Es impr...</td>\n",
       "    </tr>\n",
       "    <tr>\n",
       "      <th>2</th>\n",
       "      <td>https://twitter.com/MmeCallas/status/151317374...</td>\n",
       "      <td>2022-04-10 19:45:00</td>\n",
       "      <td>RT @CottonCodes: 🐒 #love in my #MariaCallas I ...</td>\n",
       "    </tr>\n",
       "    <tr>\n",
       "      <th>3</th>\n",
       "      <td>https://twitter.com/BotSecx/status/15131737626...</td>\n",
       "      <td>2022-04-10 19:45:00</td>\n",
       "      <td>RT @CottonCodes: 🐒 #love in my #MariaCallas I ...</td>\n",
       "    </tr>\n",
       "    <tr>\n",
       "      <th>4</th>\n",
       "      <td>https://twitter.com/agseh/status/1513173864829...</td>\n",
       "      <td>2022-04-10 19:45:00</td>\n",
       "      <td>RT @RupiReportero_: 🙆‍♂️🚘 Al que le robaron la...</td>\n",
       "    </tr>\n",
       "  </tbody>\n",
       "</table>\n",
       "</div>"
      ],
      "text/plain": [
       "                                                Link                Date  \\\n",
       "0  https://twitter.com/Jessica1988kk/status/15131... 2022-04-10 19:44:00   \n",
       "1  https://twitter.com/JotaGe2014/status/15131737... 2022-04-10 19:45:00   \n",
       "2  https://twitter.com/MmeCallas/status/151317374... 2022-04-10 19:45:00   \n",
       "3  https://twitter.com/BotSecx/status/15131737626... 2022-04-10 19:45:00   \n",
       "4  https://twitter.com/agseh/status/1513173864829... 2022-04-10 19:45:00   \n",
       "\n",
       "                                                Text  \n",
       "0  RT @invest_answers: Crypto news, #Bitcoin Whal...  \n",
       "1  #Tesla tiene récord de autos vendidos. Es impr...  \n",
       "2  RT @CottonCodes: 🐒 #love in my #MariaCallas I ...  \n",
       "3  RT @CottonCodes: 🐒 #love in my #MariaCallas I ...  \n",
       "4  RT @RupiReportero_: 🙆‍♂️🚘 Al que le robaron la...  "
      ]
     },
     "execution_count": 5,
     "metadata": {},
     "output_type": "execute_result"
    }
   ],
   "source": [
    "df_tweets['Date'] = pd.to_datetime(df_tweets['Date'], format='mixed') # dejamos que pandas infiera el formato de fecha con el formato mixed\n",
    "print(df_tweets.info())\n",
    "df_tweets.head(5)"
   ]
  },
  {
   "cell_type": "markdown",
   "metadata": {},
   "source": [
    "### Limpieza de datos\n",
    "\n",
    "Se comprueba si existen valores nulos o atípicos, además de comprobar si existen tweets duplicados.\n"
   ]
  },
  {
   "cell_type": "code",
   "execution_count": null,
   "metadata": {},
   "outputs": [
    {
     "data": {
      "text/plain": [
       "Link    0\n",
       "Date    0\n",
       "Text    0\n",
       "dtype: int64"
      ]
     },
     "execution_count": 6,
     "metadata": {},
     "output_type": "execute_result"
    }
   ],
   "source": [
    "df_tweets.isnull().sum()"
   ]
  },
  {
   "cell_type": "markdown",
   "metadata": {},
   "source": [
    "Al ser la fecha de publicación del tweet y el propio tweet en cuestion variables de tipos distintos, se hace su análisis por separado.\n",
    "\n",
    "En la descripción del dataset en la página de Kaggle se indica que los tweets han sido extraídos entre Abril de 2022 y Noviembre de 2022. Por lo que se comprueba que no existen tweets con fecha anterior al 1 de enero de 2020. Comprobamos que no existen tweets con fechas posteriores ni anteriorers a las indicadas."
   ]
  },
  {
   "cell_type": "code",
   "execution_count": null,
   "metadata": {},
   "outputs": [
    {
     "data": {
      "text/plain": [
       "(Timestamp('2022-04-10 19:44:00'), Timestamp('2022-11-12 15:11:00'))"
      ]
     },
     "execution_count": 7,
     "metadata": {},
     "output_type": "execute_result"
    }
   ],
   "source": [
    "# Análisis de valores atípicos en la columna de fecha\n",
    "\n",
    "(df_tweets['Date'].min(),\n",
    "df_tweets['Date'].max())"
   ]
  },
  {
   "cell_type": "markdown",
   "metadata": {},
   "source": [
    "### Preparación de la columna de text\n",
    "\n",
    "En esta sección se realiza la limpieza de la columna de texto.Se eliminan los caracteres especiales, las menciones, los enlaces y los emojis utilizando la librería [tweet preprocessor](https://pypi.org/project/tweet-preprocessor/). Se convierte todo el texto a minúsculas, y seleccionamos sólo los tweets en inglés.\t\n",
    "\n",
    "Sería interesante poder elegir otros idiomas aparte del inglés para el etiquetado de datos, pero por simplicidad se ha decidido utilizar sólo el inglés, ya que es el idioma más utilizado en la plataforma de Twitter. Sería posible utilizar modelos preentrenados para la clasificación de sentimientos en diferentes idiomas, pero se ha decidido utilizar sólo el inglés para simplificar el proceso de etiquetado."
   ]
  },
  {
   "cell_type": "code",
   "execution_count": null,
   "metadata": {},
   "outputs": [
    {
     "name": "stdout",
     "output_type": "stream",
     "text": [
      "Progreso: 0 / 152000 = 0.0 %\n",
      "Tiempo transcurrido: 0.5475349426269531 segundos\n"
     ]
    }
   ],
   "source": [
    "#dataframe vacío para almacenar los tweets que son en inglés\n",
    "i = 0\n",
    "df_aux = pd.DataFrame(columns=['Link','Date','Text'])\n",
    "p.set_options(p.OPT.URL, p.OPT.EMOJI, p.OPT.MENTION, p.OPT.RESERVED, p.OPT.SMILEY, p.OPT.NUMBER)\n",
    "start_time = time.time()\n",
    "\n",
    "for index, row in df_tweets.iterrows():\n",
    "    cleaned_text = p.clean(row['Text'])  # Limpia el texto y guarda el resultado\n",
    "\n",
    "    # Esta celda tarda mucho, por lo que si se desea saber el progreso se puede imprimir el porcentaje de tweets procesados\n",
    "    if i % (len(df_tweets.index)/10) == 0:\n",
    "        print('Progreso:',i,'/',len(df_tweets.index),'=',i/len(df_tweets.index)*100,'%')\n",
    "        print('Tiempo transcurrido:',time.time()-start_time,'segundos')\n",
    "    i+=1\n",
    "    \n",
    "    try:\n",
    "        if detect(cleaned_text) == 'en': # Si el texto está en inglés, lo guardamos en el dataframe auxiliar\n",
    "            df_aux.loc[len(df_aux.index)] = [row['Link'], row['Date'], cleaned_text]\n",
    "    except:\n",
    "        pass\n"
   ]
  },
  {
   "cell_type": "code",
   "execution_count": null,
   "metadata": {},
   "outputs": [
    {
     "name": "stdout",
     "output_type": "stream",
     "text": [
      "124676\n"
     ]
    },
    {
     "data": {
      "text/html": [
       "<div>\n",
       "<style scoped>\n",
       "    .dataframe tbody tr th:only-of-type {\n",
       "        vertical-align: middle;\n",
       "    }\n",
       "\n",
       "    .dataframe tbody tr th {\n",
       "        vertical-align: top;\n",
       "    }\n",
       "\n",
       "    .dataframe thead th {\n",
       "        text-align: right;\n",
       "    }\n",
       "</style>\n",
       "<table border=\"1\" class=\"dataframe\">\n",
       "  <thead>\n",
       "    <tr style=\"text-align: right;\">\n",
       "      <th></th>\n",
       "      <th>Link</th>\n",
       "      <th>Date</th>\n",
       "      <th>Text</th>\n",
       "    </tr>\n",
       "  </thead>\n",
       "  <tbody>\n",
       "    <tr>\n",
       "      <th>0</th>\n",
       "      <td>https://twitter.com/Jessica1988kk/status/15131...</td>\n",
       "      <td>2022-04-10 19:44:00</td>\n",
       "      <td>Crypto news Bitcoin Whales flying motorbikes w...</td>\n",
       "    </tr>\n",
       "    <tr>\n",
       "      <th>1</th>\n",
       "      <td>https://twitter.com/MmeCallas/status/151317374...</td>\n",
       "      <td>2022-04-10 19:45:00</td>\n",
       "      <td>love MariaCallas I KNOW Y art HOLDonLINE music...</td>\n",
       "    </tr>\n",
       "    <tr>\n",
       "      <th>2</th>\n",
       "      <td>https://twitter.com/BotSecx/status/15131737626...</td>\n",
       "      <td>2022-04-10 19:45:00</td>\n",
       "      <td>love MariaCallas I KNOW Y art HOLDonLINE music...</td>\n",
       "    </tr>\n",
       "    <tr>\n",
       "      <th>3</th>\n",
       "      <td>https://twitter.com/ElTendies/status/151317393...</td>\n",
       "      <td>2022-04-10 19:45:00</td>\n",
       "      <td>Tesla A Trillion Dollar Company Worlds Largest...</td>\n",
       "    </tr>\n",
       "    <tr>\n",
       "      <th>4</th>\n",
       "      <td>https://twitter.com/LauraCory2013/status/15131...</td>\n",
       "      <td>2022-04-10 19:45:00</td>\n",
       "      <td>chargingstations area I dont Tesla Powerwall a...</td>\n",
       "    </tr>\n",
       "  </tbody>\n",
       "</table>\n",
       "</div>"
      ],
      "text/plain": [
       "                                                Link                Date  \\\n",
       "0  https://twitter.com/Jessica1988kk/status/15131... 2022-04-10 19:44:00   \n",
       "1  https://twitter.com/MmeCallas/status/151317374... 2022-04-10 19:45:00   \n",
       "2  https://twitter.com/BotSecx/status/15131737626... 2022-04-10 19:45:00   \n",
       "3  https://twitter.com/ElTendies/status/151317393... 2022-04-10 19:45:00   \n",
       "4  https://twitter.com/LauraCory2013/status/15131... 2022-04-10 19:45:00   \n",
       "\n",
       "                                                Text  \n",
       "0  Crypto news Bitcoin Whales flying motorbikes w...  \n",
       "1  love MariaCallas I KNOW Y art HOLDonLINE music...  \n",
       "2  love MariaCallas I KNOW Y art HOLDonLINE music...  \n",
       "3  Tesla A Trillion Dollar Company Worlds Largest...  \n",
       "4  chargingstations area I dont Tesla Powerwall a...  "
      ]
     },
     "execution_count": 10,
     "metadata": {},
     "output_type": "execute_result"
    }
   ],
   "source": [
    "def eliminar_puntuacion(text):\n",
    "    return text.translate(str.maketrans('', '', string.punctuation))\n",
    "\n",
    "def eliminar_stopwords(text):\n",
    "    return ' '.join([word for word in text.split() if word not in stop_words])\n",
    "\n",
    "stop_words = set(stopwords.words('english'))\n",
    "\n",
    "df_aux['Text'] = df_aux['Text'].apply(eliminar_puntuacion)\n",
    "df_aux['Text'] = df_aux['Text'].apply(eliminar_stopwords)\n",
    "\n",
    "print(len(df_aux.index))\n",
    "df_aux.head(5)"
   ]
  },
  {
   "cell_type": "markdown",
   "metadata": {},
   "source": [
    "Como también fue notado en la caracterización de los datos, existen días que los mercados no están abiertos y por tanto no hay observaciones de las acciones. La estrategia de entrenamiento de los modelos de aprendizaje automático será la de predecir el precio de las acciones al día siguiente, por lo que se decide eliminar los tweets de los días en los que no hay observaciones de las acciones."
   ]
  },
  {
   "cell_type": "code",
   "execution_count": null,
   "metadata": {},
   "outputs": [
    {
     "name": "stdout",
     "output_type": "stream",
     "text": [
      "9\n"
     ]
    }
   ],
   "source": [
    "df_stocks = pd.read_csv('../../data/raw/tesla_stocks.csv')\n",
    "df_stocks['Date'] = pd.to_datetime(df_stocks['Date'], format='mixed')\n",
    "\n",
    "df_copy = df_aux.copy()\n",
    "\n",
    "\n",
    "mask = df_copy['Date'].isin(df_stocks['Date'])\n",
    "df_copy = df_copy[mask]\n",
    "\n",
    "print(len(df_copy.index))\n"
   ]
  },
  {
   "cell_type": "code",
   "execution_count": null,
   "metadata": {},
   "outputs": [],
   "source": [
    "df_aux.to_csv('../../data/clean/tesla_tweets_unlabelled.csv', index=False)"
   ]
  }
 ],
 "metadata": {
  "kernelspec": {
   "display_name": "Python 3",
   "language": "python",
   "name": "python3"
  },
  "language_info": {
   "codemirror_mode": {
    "name": "ipython",
    "version": 3
   },
   "file_extension": ".py",
   "mimetype": "text/x-python",
   "name": "python",
   "nbconvert_exporter": "python",
   "pygments_lexer": "ipython3",
   "version": "3.11.1"
  }
 },
 "nbformat": 4,
 "nbformat_minor": 2
}

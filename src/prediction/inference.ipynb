{
 "cells": [
  {
   "cell_type": "code",
   "execution_count": 1,
   "metadata": {},
   "outputs": [
    {
     "name": "stderr",
     "output_type": "stream",
     "text": [
      "c:\\Users\\34644\\AppData\\Local\\Programs\\Python\\Python311\\Lib\\site-packages\\tqdm\\auto.py:21: TqdmWarning: IProgress not found. Please update jupyter and ipywidgets. See https://ipywidgets.readthedocs.io/en/stable/user_install.html\n",
      "  from .autonotebook import tqdm as notebook_tqdm\n"
     ]
    }
   ],
   "source": [
    "from setfit import SetFitModel"
   ]
  },
  {
   "cell_type": "code",
   "execution_count": 2,
   "metadata": {},
   "outputs": [],
   "source": [
    "model = SetFitModel.from_pretrained(\"./output_models/\", local_files_only=True)"
   ]
  },
  {
   "cell_type": "code",
   "execution_count": 3,
   "metadata": {},
   "outputs": [
    {
     "data": {
      "text/plain": [
       "{0: 'negative', 1: 'positive'}"
      ]
     },
     "execution_count": 3,
     "metadata": {},
     "output_type": "execute_result"
    }
   ],
   "source": [
    "sentiment_dict = {\"negative\": 0, \"positive\": 1}\n",
    "inverse_dict = {value: key for (key, value) in sentiment_dict.items()}\n",
    "inverse_dict"
   ]
  },
  {
   "cell_type": "code",
   "execution_count": 4,
   "metadata": {},
   "outputs": [],
   "source": [
    "text_list = [\n",
    "    'Tesla stock is so down today',\n",
    "    'Tesla stock is so up today',\n",
    "    'I love tesla so much',\n",
    "    'I hate tesla so much',\n",
    "    'i crashed my tesla today',\n",
    "    'elon musk just saved a cat from a fire',\n",
    "    'i feel like elon musk is not doing enough for the environment',\n",
    "]\n",
    "\n",
    "preds = model(text_list)"
   ]
  },
  {
   "cell_type": "code",
   "execution_count": 5,
   "metadata": {},
   "outputs": [
    {
     "name": "stdout",
     "output_type": "stream",
     "text": [
      "Tesla stock is so down today\n",
      "0\n",
      "negative\n",
      "\n",
      "\n",
      "Tesla stock is so up today\n",
      "1\n",
      "positive\n",
      "\n",
      "\n",
      "I love tesla so much\n",
      "1\n",
      "positive\n",
      "\n",
      "\n",
      "I hate tesla so much\n",
      "0\n",
      "negative\n",
      "\n",
      "\n",
      "i crashed my tesla today\n",
      "0\n",
      "negative\n",
      "\n",
      "\n",
      "elon musk just saved a cat from a fire\n",
      "1\n",
      "positive\n",
      "\n",
      "\n",
      "i feel like elon musk is not doing enough for the environment\n",
      "0\n",
      "negative\n",
      "\n",
      "\n"
     ]
    }
   ],
   "source": [
    "for i in range(len(text_list)):\n",
    "    print(text_list[i])\n",
    "    print(preds[i].item())\n",
    "    print(inverse_dict[preds[i].item()])\n",
    "    print('\\n')"
   ]
  }
 ],
 "metadata": {
  "kernelspec": {
   "display_name": "Python 3",
   "language": "python",
   "name": "python3"
  },
  "language_info": {
   "codemirror_mode": {
    "name": "ipython",
    "version": 3
   },
   "file_extension": ".py",
   "mimetype": "text/x-python",
   "name": "python",
   "nbconvert_exporter": "python",
   "pygments_lexer": "ipython3",
   "version": "3.11.1"
  }
 },
 "nbformat": 4,
 "nbformat_minor": 2
}

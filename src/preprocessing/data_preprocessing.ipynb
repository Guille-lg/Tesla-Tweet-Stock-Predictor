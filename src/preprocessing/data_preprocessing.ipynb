{
 "cells": [
  {
   "cell_type": "markdown",
   "metadata": {},
   "source": [
    "# Preprocesamiento de datos (Tweets)\n",
    "\n",
    "En este notebook se realiza el preprocesamiento de los datos que contienen los tweets para el entrenamiento de los modelos de aprendizaje automático extraidos de HuggingFace. Los datos han dido extraídos de la plataforma de Kaggle, en el siguiente [enlace](https://www.kaggle.com/datasets/alishafaghi/hashtag-tesla-tweets). El dataset contiene más de 150.000 tweets etiquetados con #tesla.\n",
    "\n",
    "El objetivo es obtener un dataset con una única columna de tweets en inglés, para su posterior etiquetado por parte del alumno. El etiquetado de datos será discutido en la memoria, y realizado en los scripts de la carpeta `labelling`."
   ]
  },
  {
   "cell_type": "code",
   "execution_count": 1,
   "metadata": {},
   "outputs": [
    {
     "name": "stderr",
     "output_type": "stream",
     "text": [
      "[nltk_data] Downloading package stopwords to\n",
      "[nltk_data]     C:\\Users\\34644\\AppData\\Roaming\\nltk_data...\n",
      "[nltk_data]   Package stopwords is already up-to-date!\n"
     ]
    }
   ],
   "source": [
    "import pandas as pd\n",
    "import yfinance as yf\n",
    "from langdetect import detect\n",
    "import preprocessor as p\n",
    "import string\n",
    "import time\n",
    "from sklearn.preprocessing import MinMaxScaler\n",
    "from sklearn.decomposition import PCA\n",
    "import nltk\n",
    "from nltk.corpus import stopwords\n",
    "\n",
    "\n",
    "nltk.download('stopwords')\n",
    "p.set_options(p.OPT.URL, p.OPT.EMOJI, p.OPT.MENTION, p.OPT.RESERVED, p.OPT.SMILEY, p.OPT.NUMBER)"
   ]
  },
  {
   "cell_type": "markdown",
   "metadata": {},
   "source": [
    "## Preprocesamiento del dataset de tweets"
   ]
  },
  {
   "cell_type": "markdown",
   "metadata": {},
   "source": [
    "### Overview\n",
    "\n",
    "En esta sección se realiza la carga de datos y análisis de alto nivel del datafrfame"
   ]
  },
  {
   "cell_type": "code",
   "execution_count": 2,
   "metadata": {},
   "outputs": [
    {
     "data": {
      "text/html": [
       "<div>\n",
       "<style scoped>\n",
       "    .dataframe tbody tr th:only-of-type {\n",
       "        vertical-align: middle;\n",
       "    }\n",
       "\n",
       "    .dataframe tbody tr th {\n",
       "        vertical-align: top;\n",
       "    }\n",
       "\n",
       "    .dataframe thead th {\n",
       "        text-align: right;\n",
       "    }\n",
       "</style>\n",
       "<table border=\"1\" class=\"dataframe\">\n",
       "  <thead>\n",
       "    <tr style=\"text-align: right;\">\n",
       "      <th></th>\n",
       "      <th>Date &amp; Time</th>\n",
       "      <th>Profile Picture Link</th>\n",
       "      <th>Twitter ID</th>\n",
       "      <th>Tweet Text</th>\n",
       "      <th>Tweet Link</th>\n",
       "    </tr>\n",
       "  </thead>\n",
       "  <tbody>\n",
       "    <tr>\n",
       "      <th>105733</th>\n",
       "      <td>September 08, 2022 at 04:19PM</td>\n",
       "      <td>http://pbs.twimg.com/profile_images/146513470...</td>\n",
       "      <td>@projekt100x</td>\n",
       "      <td>Wenn #Tesla im nächsten Jahr Ferraris operativ...</td>\n",
       "      <td>https://twitter.com/projekt100x/status/1567842...</td>\n",
       "    </tr>\n",
       "    <tr>\n",
       "      <th>78738</th>\n",
       "      <td>August 01, 2022 at 01:17PM</td>\n",
       "      <td>http://pbs.twimg.com/profile_images/125846004...</td>\n",
       "      <td>@NatEco12</td>\n",
       "      <td>KIA EV6 GT DRIVEN! Has the Tesla Model 3 Perfo...</td>\n",
       "      <td>https://twitter.com/NatEco12/status/1554025914...</td>\n",
       "    </tr>\n",
       "    <tr>\n",
       "      <th>95051</th>\n",
       "      <td>August 24, 2022 at 11:15AM</td>\n",
       "      <td>http://pbs.twimg.com/profile_images/151998749...</td>\n",
       "      <td>@cryptonoticing</td>\n",
       "      <td>RT @prudentwriters: Why #QuantumComputing Is E...</td>\n",
       "      <td>https://twitter.com/cryptonoticing/status/1562...</td>\n",
       "    </tr>\n",
       "    <tr>\n",
       "      <th>128464</th>\n",
       "      <td>October 10, 2022 at 11:17AM</td>\n",
       "      <td>http://pbs.twimg.com/profile_images/965494239...</td>\n",
       "      <td>@kirillklip</td>\n",
       "      <td>RT @kirillklip: TNR Gold NSR Royalty Holding: ...</td>\n",
       "      <td>https://twitter.com/kirillklip/status/15793779...</td>\n",
       "    </tr>\n",
       "    <tr>\n",
       "      <th>139325</th>\n",
       "      <td>October 25, 2022 at 04:08PM</td>\n",
       "      <td>http://pbs.twimg.com/profile_images/965494239...</td>\n",
       "      <td>@kirillklip</td>\n",
       "      <td>TNR Gold NSR Royalty Holding: President Albert...</td>\n",
       "      <td>https://twitter.com/kirillklip/status/15848871...</td>\n",
       "    </tr>\n",
       "  </tbody>\n",
       "</table>\n",
       "</div>"
      ],
      "text/plain": [
       "                          Date & Time  \\\n",
       "105733  September 08, 2022 at 04:19PM   \n",
       "78738      August 01, 2022 at 01:17PM   \n",
       "95051      August 24, 2022 at 11:15AM   \n",
       "128464    October 10, 2022 at 11:17AM   \n",
       "139325    October 25, 2022 at 04:08PM   \n",
       "\n",
       "                                     Profile Picture Link       Twitter ID  \\\n",
       "105733   http://pbs.twimg.com/profile_images/146513470...     @projekt100x   \n",
       "78738    http://pbs.twimg.com/profile_images/125846004...        @NatEco12   \n",
       "95051    http://pbs.twimg.com/profile_images/151998749...  @cryptonoticing   \n",
       "128464   http://pbs.twimg.com/profile_images/965494239...      @kirillklip   \n",
       "139325   http://pbs.twimg.com/profile_images/965494239...      @kirillklip   \n",
       "\n",
       "                                               Tweet Text  \\\n",
       "105733  Wenn #Tesla im nächsten Jahr Ferraris operativ...   \n",
       "78738   KIA EV6 GT DRIVEN! Has the Tesla Model 3 Perfo...   \n",
       "95051   RT @prudentwriters: Why #QuantumComputing Is E...   \n",
       "128464  RT @kirillklip: TNR Gold NSR Royalty Holding: ...   \n",
       "139325  TNR Gold NSR Royalty Holding: President Albert...   \n",
       "\n",
       "                                               Tweet Link  \n",
       "105733  https://twitter.com/projekt100x/status/1567842...  \n",
       "78738   https://twitter.com/NatEco12/status/1554025914...  \n",
       "95051   https://twitter.com/cryptonoticing/status/1562...  \n",
       "128464  https://twitter.com/kirillklip/status/15793779...  \n",
       "139325  https://twitter.com/kirillklip/status/15848871...  "
      ]
     },
     "execution_count": 2,
     "metadata": {},
     "output_type": "execute_result"
    }
   ],
   "source": [
    "df_tweets = pd.read_csv('../../data/raw/tesla_tweets.csv')\n",
    "df_tweets.sample(5)"
   ]
  },
  {
   "cell_type": "markdown",
   "metadata": {},
   "source": [
    "Como lo único que nos interesa es la columna de texto y su id, se descartan las demás columnas y se establece el tweet de cada post como índice del dataframe."
   ]
  },
  {
   "cell_type": "code",
   "execution_count": 3,
   "metadata": {},
   "outputs": [
    {
     "data": {
      "text/html": [
       "<div>\n",
       "<style scoped>\n",
       "    .dataframe tbody tr th:only-of-type {\n",
       "        vertical-align: middle;\n",
       "    }\n",
       "\n",
       "    .dataframe tbody tr th {\n",
       "        vertical-align: top;\n",
       "    }\n",
       "\n",
       "    .dataframe thead th {\n",
       "        text-align: right;\n",
       "    }\n",
       "</style>\n",
       "<table border=\"1\" class=\"dataframe\">\n",
       "  <thead>\n",
       "    <tr style=\"text-align: right;\">\n",
       "      <th></th>\n",
       "      <th>Link</th>\n",
       "      <th>Date</th>\n",
       "      <th>Text</th>\n",
       "    </tr>\n",
       "  </thead>\n",
       "  <tbody>\n",
       "    <tr>\n",
       "      <th>106507</th>\n",
       "      <td>https://twitter.com/BobWhit40143681/status/156...</td>\n",
       "      <td>September 09, 2022 at 06:19PM</td>\n",
       "      <td>#Tesla Is Planning a New Business</td>\n",
       "    </tr>\n",
       "    <tr>\n",
       "      <th>43186</th>\n",
       "      <td>https://twitter.com/flybrandenburg/status/1536...</td>\n",
       "      <td>June 12, 2022 at 11:04PM</td>\n",
       "      <td>New #GigaBerlin drone video from today, June 1...</td>\n",
       "    </tr>\n",
       "    <tr>\n",
       "      <th>33040</th>\n",
       "      <td>https://twitter.com/TMukeshian/status/15309078...</td>\n",
       "      <td>May 29, 2022 at 06:14PM</td>\n",
       "      <td>RT @globaltimesnews: #Tesla has adopted a doub...</td>\n",
       "    </tr>\n",
       "    <tr>\n",
       "      <th>28410</th>\n",
       "      <td>https://twitter.com/snband4/status/15285687233...</td>\n",
       "      <td>May 23, 2022 at 07:19AM</td>\n",
       "      <td>RT @StrictlyChristo: Insurance companies are c...</td>\n",
       "    </tr>\n",
       "    <tr>\n",
       "      <th>25264</th>\n",
       "      <td>https://twitter.com/DaMiIkMan/status/152698119...</td>\n",
       "      <td>May 18, 2022 at 10:11PM</td>\n",
       "      <td>RT @invest_answers: #Tesla gets kicked out of ...</td>\n",
       "    </tr>\n",
       "  </tbody>\n",
       "</table>\n",
       "</div>"
      ],
      "text/plain": [
       "                                                     Link  \\\n",
       "106507  https://twitter.com/BobWhit40143681/status/156...   \n",
       "43186   https://twitter.com/flybrandenburg/status/1536...   \n",
       "33040   https://twitter.com/TMukeshian/status/15309078...   \n",
       "28410   https://twitter.com/snband4/status/15285687233...   \n",
       "25264   https://twitter.com/DaMiIkMan/status/152698119...   \n",
       "\n",
       "                                 Date  \\\n",
       "106507  September 09, 2022 at 06:19PM   \n",
       "43186        June 12, 2022 at 11:04PM   \n",
       "33040         May 29, 2022 at 06:14PM   \n",
       "28410         May 23, 2022 at 07:19AM   \n",
       "25264         May 18, 2022 at 10:11PM   \n",
       "\n",
       "                                                     Text  \n",
       "106507                  #Tesla Is Planning a New Business  \n",
       "43186   New #GigaBerlin drone video from today, June 1...  \n",
       "33040   RT @globaltimesnews: #Tesla has adopted a doub...  \n",
       "28410   RT @StrictlyChristo: Insurance companies are c...  \n",
       "25264   RT @invest_answers: #Tesla gets kicked out of ...  "
      ]
     },
     "execution_count": 3,
     "metadata": {},
     "output_type": "execute_result"
    }
   ],
   "source": [
    "\n",
    "selected_columns = ['Tweet Link','Date & Time','Tweet Text']\n",
    "df_tweets = df_tweets[selected_columns]\n",
    "df_tweets.rename(columns={'Tweet Text':'Text', 'Tweet Link' : 'Link', 'Date & Time' : 'Date'}, inplace=True)\n",
    "df_tweets.sample(5)"
   ]
  },
  {
   "cell_type": "code",
   "execution_count": 4,
   "metadata": {},
   "outputs": [
    {
     "name": "stdout",
     "output_type": "stream",
     "text": [
      "<class 'pandas.core.frame.DataFrame'>\n",
      "RangeIndex: 152000 entries, 0 to 151999\n",
      "Data columns (total 3 columns):\n",
      " #   Column  Non-Null Count   Dtype \n",
      "---  ------  --------------   ----- \n",
      " 0   Link    152000 non-null  object\n",
      " 1   Date    152000 non-null  object\n",
      " 2   Text    152000 non-null  object\n",
      "dtypes: object(3)\n",
      "memory usage: 3.5+ MB\n"
     ]
    }
   ],
   "source": [
    "df_tweets.info()"
   ]
  },
  {
   "cell_type": "markdown",
   "metadata": {},
   "source": [
    "Comprobamos que la columna de fecha no está en formato datetime, por lo que se convierte a dicho formato. "
   ]
  },
  {
   "cell_type": "code",
   "execution_count": 5,
   "metadata": {},
   "outputs": [
    {
     "name": "stdout",
     "output_type": "stream",
     "text": [
      "<class 'pandas.core.frame.DataFrame'>\n",
      "RangeIndex: 152000 entries, 0 to 151999\n",
      "Data columns (total 3 columns):\n",
      " #   Column  Non-Null Count   Dtype         \n",
      "---  ------  --------------   -----         \n",
      " 0   Link    152000 non-null  object        \n",
      " 1   Date    152000 non-null  datetime64[ns]\n",
      " 2   Text    152000 non-null  object        \n",
      "dtypes: datetime64[ns](1), object(2)\n",
      "memory usage: 3.5+ MB\n",
      "None\n"
     ]
    },
    {
     "data": {
      "text/html": [
       "<div>\n",
       "<style scoped>\n",
       "    .dataframe tbody tr th:only-of-type {\n",
       "        vertical-align: middle;\n",
       "    }\n",
       "\n",
       "    .dataframe tbody tr th {\n",
       "        vertical-align: top;\n",
       "    }\n",
       "\n",
       "    .dataframe thead th {\n",
       "        text-align: right;\n",
       "    }\n",
       "</style>\n",
       "<table border=\"1\" class=\"dataframe\">\n",
       "  <thead>\n",
       "    <tr style=\"text-align: right;\">\n",
       "      <th></th>\n",
       "      <th>Link</th>\n",
       "      <th>Date</th>\n",
       "      <th>Text</th>\n",
       "    </tr>\n",
       "  </thead>\n",
       "  <tbody>\n",
       "    <tr>\n",
       "      <th>0</th>\n",
       "      <td>https://twitter.com/Jessica1988kk/status/15131...</td>\n",
       "      <td>2022-04-10 19:44:00</td>\n",
       "      <td>RT @invest_answers: Crypto news, #Bitcoin Whal...</td>\n",
       "    </tr>\n",
       "    <tr>\n",
       "      <th>1</th>\n",
       "      <td>https://twitter.com/JotaGe2014/status/15131737...</td>\n",
       "      <td>2022-04-10 19:45:00</td>\n",
       "      <td>#Tesla tiene récord de autos vendidos. Es impr...</td>\n",
       "    </tr>\n",
       "    <tr>\n",
       "      <th>2</th>\n",
       "      <td>https://twitter.com/MmeCallas/status/151317374...</td>\n",
       "      <td>2022-04-10 19:45:00</td>\n",
       "      <td>RT @CottonCodes: 🐒 #love in my #MariaCallas I ...</td>\n",
       "    </tr>\n",
       "    <tr>\n",
       "      <th>3</th>\n",
       "      <td>https://twitter.com/BotSecx/status/15131737626...</td>\n",
       "      <td>2022-04-10 19:45:00</td>\n",
       "      <td>RT @CottonCodes: 🐒 #love in my #MariaCallas I ...</td>\n",
       "    </tr>\n",
       "    <tr>\n",
       "      <th>4</th>\n",
       "      <td>https://twitter.com/agseh/status/1513173864829...</td>\n",
       "      <td>2022-04-10 19:45:00</td>\n",
       "      <td>RT @RupiReportero_: 🙆‍♂️🚘 Al que le robaron la...</td>\n",
       "    </tr>\n",
       "  </tbody>\n",
       "</table>\n",
       "</div>"
      ],
      "text/plain": [
       "                                                Link                Date  \\\n",
       "0  https://twitter.com/Jessica1988kk/status/15131... 2022-04-10 19:44:00   \n",
       "1  https://twitter.com/JotaGe2014/status/15131737... 2022-04-10 19:45:00   \n",
       "2  https://twitter.com/MmeCallas/status/151317374... 2022-04-10 19:45:00   \n",
       "3  https://twitter.com/BotSecx/status/15131737626... 2022-04-10 19:45:00   \n",
       "4  https://twitter.com/agseh/status/1513173864829... 2022-04-10 19:45:00   \n",
       "\n",
       "                                                Text  \n",
       "0  RT @invest_answers: Crypto news, #Bitcoin Whal...  \n",
       "1  #Tesla tiene récord de autos vendidos. Es impr...  \n",
       "2  RT @CottonCodes: 🐒 #love in my #MariaCallas I ...  \n",
       "3  RT @CottonCodes: 🐒 #love in my #MariaCallas I ...  \n",
       "4  RT @RupiReportero_: 🙆‍♂️🚘 Al que le robaron la...  "
      ]
     },
     "execution_count": 5,
     "metadata": {},
     "output_type": "execute_result"
    }
   ],
   "source": [
    "df_tweets['Date'] = pd.to_datetime(df_tweets['Date'], format='mixed') # dejamos que pandas infiera el formato de fecha con el formato mixed\n",
    "print(df_tweets.info())\n",
    "df_tweets.head(5)"
   ]
  },
  {
   "cell_type": "markdown",
   "metadata": {},
   "source": [
    "### Limpieza de datos\n",
    "\n",
    "Se comprueba si existen valores nulos o atípicos, además de comprobar si existen tweets duplicados.\n"
   ]
  },
  {
   "cell_type": "code",
   "execution_count": 6,
   "metadata": {},
   "outputs": [
    {
     "data": {
      "text/plain": [
       "Link    0\n",
       "Date    0\n",
       "Text    0\n",
       "dtype: int64"
      ]
     },
     "execution_count": 6,
     "metadata": {},
     "output_type": "execute_result"
    }
   ],
   "source": [
    "df_tweets.isnull().sum()"
   ]
  },
  {
   "cell_type": "markdown",
   "metadata": {},
   "source": [
    "Al ser la fecha de publicación del tweet y el propio tweet en cuestion variables de tipos distintos, se hace su análisis por separado.\n",
    "\n",
    "En la descripción del dataset en la página de Kaggle se indica que los tweets han sido extraídos entre Abril de 2022 y Noviembre de 2022. Por lo que se comprueba que no existen tweets con fecha anterior al 1 de enero de 2020. Comprobamos que no existen tweets con fechas posteriores ni anteriorers a las indicadas."
   ]
  },
  {
   "cell_type": "code",
   "execution_count": 7,
   "metadata": {},
   "outputs": [
    {
     "data": {
      "text/plain": [
       "(Timestamp('2022-04-10 19:44:00'), Timestamp('2022-11-12 15:11:00'))"
      ]
     },
     "execution_count": 7,
     "metadata": {},
     "output_type": "execute_result"
    }
   ],
   "source": [
    "# Análisis de valores atípicos en la columna de fecha\n",
    "\n",
    "(df_tweets['Date'].min(),\n",
    "df_tweets['Date'].max())"
   ]
  },
  {
   "cell_type": "markdown",
   "metadata": {},
   "source": [
    "### Preparación de la columna de text\n",
    "\n",
    "En esta sección se realiza la limpieza de la columna de texto.Se eliminan los caracteres especiales, las menciones, los enlaces y los emojis utilizando la librería [tweet preprocessor](https://pypi.org/project/tweet-preprocessor/). Se convierte todo el texto a minúsculas, y seleccionamos sólo los tweets en inglés.\t\n",
    "\n",
    "Sería interesante poder elegir otros idiomas aparte del inglés para el etiquetado de datos, pero por simplicidad se ha decidido utilizar sólo el inglés, ya que es el idioma más utilizado en la plataforma de Twitter. Sería posible utilizar modelos preentrenados para la clasificación de sentimientos en diferentes idiomas, pero se ha decidido utilizar sólo el inglés para simplificar el proceso de etiquetado."
   ]
  },
  {
   "cell_type": "code",
   "execution_count": 8,
   "metadata": {},
   "outputs": [
    {
     "name": "stdout",
     "output_type": "stream",
     "text": [
      "Progreso: 0 / 152000 = 0.0 %\n",
      "Tiempo transcurrido: 0.2866506576538086 segundos\n",
      "Progreso: 15200 / 152000 = 10.0 %\n",
      "Tiempo transcurrido: 122.48489880561829 segundos\n",
      "Progreso: 30400 / 152000 = 20.0 %\n",
      "Tiempo transcurrido: 280.26022005081177 segundos\n",
      "Progreso: 45600 / 152000 = 30.0 %\n",
      "Tiempo transcurrido: 479.6051986217499 segundos\n",
      "Progreso: 60800 / 152000 = 40.0 %\n",
      "Tiempo transcurrido: 666.2523875236511 segundos\n",
      "Progreso: 76000 / 152000 = 50.0 %\n",
      "Tiempo transcurrido: 880.3665461540222 segundos\n",
      "Progreso: 91200 / 152000 = 60.0 %\n",
      "Tiempo transcurrido: 1093.8572807312012 segundos\n",
      "Progreso: 106400 / 152000 = 70.0 %\n",
      "Tiempo transcurrido: 1382.5346384048462 segundos\n",
      "Progreso: 121600 / 152000 = 80.0 %\n",
      "Tiempo transcurrido: 1629.175193786621 segundos\n",
      "Progreso: 136800 / 152000 = 90.0 %\n",
      "Tiempo transcurrido: 1904.1405940055847 segundos\n"
     ]
    }
   ],
   "source": [
    "#dataframe vacío para almacenar los tweets que son en inglés\n",
    "i = 0\n",
    "df_aux = pd.DataFrame(columns=['Link','Date','Text'])\n",
    "p.set_options(p.OPT.URL, p.OPT.EMOJI, p.OPT.MENTION, p.OPT.RESERVED, p.OPT.SMILEY, p.OPT.NUMBER)\n",
    "start_time = time.time()\n",
    "\n",
    "for index, row in df_tweets.iterrows():\n",
    "    cleaned_text = p.clean(row['Text'])  # Limpia el texto y guarda el resultado\n",
    "\n",
    "    # Esta celda tarda mucho, por lo que si se desea saber el progreso se puede imprimir el porcentaje de tweets procesados\n",
    "    if i % (len(df_tweets.index)/10) == 0:\n",
    "        print('Progreso:',i,'/',len(df_tweets.index),'=',i/len(df_tweets.index)*100,'%')\n",
    "        print('Tiempo transcurrido:',time.time()-start_time,'segundos')\n",
    "    i+=1\n",
    "    \n",
    "    try:\n",
    "        if detect(cleaned_text) == 'en': # Si el texto está en inglés, lo guardamos en el dataframe auxiliar\n",
    "            df_aux.loc[len(df_aux.index)] = [row['Link'], row['Date'], cleaned_text]\n",
    "    except:\n",
    "        pass\n"
   ]
  },
  {
   "cell_type": "code",
   "execution_count": 9,
   "metadata": {},
   "outputs": [
    {
     "name": "stdout",
     "output_type": "stream",
     "text": [
      "124712\n"
     ]
    },
    {
     "data": {
      "text/html": [
       "<div>\n",
       "<style scoped>\n",
       "    .dataframe tbody tr th:only-of-type {\n",
       "        vertical-align: middle;\n",
       "    }\n",
       "\n",
       "    .dataframe tbody tr th {\n",
       "        vertical-align: top;\n",
       "    }\n",
       "\n",
       "    .dataframe thead th {\n",
       "        text-align: right;\n",
       "    }\n",
       "</style>\n",
       "<table border=\"1\" class=\"dataframe\">\n",
       "  <thead>\n",
       "    <tr style=\"text-align: right;\">\n",
       "      <th></th>\n",
       "      <th>Link</th>\n",
       "      <th>Date</th>\n",
       "      <th>Text</th>\n",
       "    </tr>\n",
       "  </thead>\n",
       "  <tbody>\n",
       "    <tr>\n",
       "      <th>0</th>\n",
       "      <td>https://twitter.com/Jessica1988kk/status/15131...</td>\n",
       "      <td>2022-04-10 19:44:00</td>\n",
       "      <td>Crypto news Bitcoin Whales flying motorbikes w...</td>\n",
       "    </tr>\n",
       "    <tr>\n",
       "      <th>1</th>\n",
       "      <td>https://twitter.com/MmeCallas/status/151317374...</td>\n",
       "      <td>2022-04-10 19:45:00</td>\n",
       "      <td>love MariaCallas I KNOW Y art HOLDonLINE music...</td>\n",
       "    </tr>\n",
       "    <tr>\n",
       "      <th>2</th>\n",
       "      <td>https://twitter.com/BotSecx/status/15131737626...</td>\n",
       "      <td>2022-04-10 19:45:00</td>\n",
       "      <td>love MariaCallas I KNOW Y art HOLDonLINE music...</td>\n",
       "    </tr>\n",
       "    <tr>\n",
       "      <th>3</th>\n",
       "      <td>https://twitter.com/ElTendies/status/151317393...</td>\n",
       "      <td>2022-04-10 19:45:00</td>\n",
       "      <td>Tesla A Trillion Dollar Company Worlds Largest...</td>\n",
       "    </tr>\n",
       "    <tr>\n",
       "      <th>4</th>\n",
       "      <td>https://twitter.com/LauraCory2013/status/15131...</td>\n",
       "      <td>2022-04-10 19:45:00</td>\n",
       "      <td>chargingstations area I dont Tesla Powerwall a...</td>\n",
       "    </tr>\n",
       "  </tbody>\n",
       "</table>\n",
       "</div>"
      ],
      "text/plain": [
       "                                                Link                Date  \\\n",
       "0  https://twitter.com/Jessica1988kk/status/15131... 2022-04-10 19:44:00   \n",
       "1  https://twitter.com/MmeCallas/status/151317374... 2022-04-10 19:45:00   \n",
       "2  https://twitter.com/BotSecx/status/15131737626... 2022-04-10 19:45:00   \n",
       "3  https://twitter.com/ElTendies/status/151317393... 2022-04-10 19:45:00   \n",
       "4  https://twitter.com/LauraCory2013/status/15131... 2022-04-10 19:45:00   \n",
       "\n",
       "                                                Text  \n",
       "0  Crypto news Bitcoin Whales flying motorbikes w...  \n",
       "1  love MariaCallas I KNOW Y art HOLDonLINE music...  \n",
       "2  love MariaCallas I KNOW Y art HOLDonLINE music...  \n",
       "3  Tesla A Trillion Dollar Company Worlds Largest...  \n",
       "4  chargingstations area I dont Tesla Powerwall a...  "
      ]
     },
     "execution_count": 9,
     "metadata": {},
     "output_type": "execute_result"
    }
   ],
   "source": [
    "def eliminar_puntuacion(text):\n",
    "    return text.translate(str.maketrans('', '', string.punctuation))\n",
    "\n",
    "def eliminar_stopwords(text):\n",
    "    return ' '.join([word for word in text.split() if word not in stop_words])\n",
    "\n",
    "stop_words = set(stopwords.words('english'))\n",
    "\n",
    "df_aux['Text'] = df_aux['Text'].apply(eliminar_puntuacion)\n",
    "df_aux['Text'] = df_aux['Text'].apply(eliminar_stopwords)\n",
    "\n",
    "print(len(df_aux.index))\n",
    "df_aux.head(5)"
   ]
  },
  {
   "cell_type": "markdown",
   "metadata": {},
   "source": [
    "Como también fue notado en la caracterización de los datos, existen días que los mercados no están abiertos y por tanto no hay observaciones de las acciones. La estrategia de entrenamiento de los modelos de aprendizaje automático será la de predecir el precio de las acciones al día siguiente, por lo que se decide eliminar los tweets de los días en los que no hay observaciones de las acciones."
   ]
  },
  {
   "cell_type": "code",
   "execution_count": 10,
   "metadata": {},
   "outputs": [
    {
     "name": "stdout",
     "output_type": "stream",
     "text": [
      "9\n"
     ]
    }
   ],
   "source": [
    "df_stocks = pd.read_csv('../../data/raw/tesla_stocks.csv')\n",
    "df_stocks['Date'] = pd.to_datetime(df_stocks['Date'], format='%Y-%m-%d')\n",
    "\n",
    "df_copy = df_aux.copy()\n",
    "\n",
    "\n",
    "mask = df_copy['Date'].isin(df_stocks['Date'])\n",
    "df_copy = df_copy[mask]\n",
    "\n",
    "print(len(df_copy.index))\n"
   ]
  },
  {
   "cell_type": "code",
   "execution_count": 12,
   "metadata": {},
   "outputs": [
    {
     "ename": "PermissionError",
     "evalue": "[Errno 13] Permission denied: '../../data/clean/'",
     "output_type": "error",
     "traceback": [
      "\u001b[1;31m---------------------------------------------------------------------------\u001b[0m",
      "\u001b[1;31mPermissionError\u001b[0m                           Traceback (most recent call last)",
      "\u001b[1;32mc:\\Users\\34644\\Desktop\\Cursos\\Curso_CEI\\Tesla-Tweet-Stock-Predictor\\src\\preprocessing\\data_preprocessing.ipynb Cell 20\u001b[0m line \u001b[0;36m1\n\u001b[1;32m----> <a href='vscode-notebook-cell:/c%3A/Users/34644/Desktop/Cursos/Curso_CEI/Tesla-Tweet-Stock-Predictor/src/preprocessing/data_preprocessing.ipynb#X25sZmlsZQ%3D%3D?line=0'>1</a>\u001b[0m df_aux\u001b[39m.\u001b[39;49mto_csv(\u001b[39m'\u001b[39;49m\u001b[39m../../data/clean/\u001b[39;49m\u001b[39m'\u001b[39;49m, index\u001b[39m=\u001b[39;49m\u001b[39mFalse\u001b[39;49;00m)\n",
      "File \u001b[1;32mc:\\Users\\34644\\AppData\\Local\\Programs\\Python\\Python311\\Lib\\site-packages\\pandas\\core\\generic.py:3772\u001b[0m, in \u001b[0;36mNDFrame.to_csv\u001b[1;34m(self, path_or_buf, sep, na_rep, float_format, columns, header, index, index_label, mode, encoding, compression, quoting, quotechar, lineterminator, chunksize, date_format, doublequote, escapechar, decimal, errors, storage_options)\u001b[0m\n\u001b[0;32m   3761\u001b[0m df \u001b[39m=\u001b[39m \u001b[39mself\u001b[39m \u001b[39mif\u001b[39;00m \u001b[39misinstance\u001b[39m(\u001b[39mself\u001b[39m, ABCDataFrame) \u001b[39melse\u001b[39;00m \u001b[39mself\u001b[39m\u001b[39m.\u001b[39mto_frame()\n\u001b[0;32m   3763\u001b[0m formatter \u001b[39m=\u001b[39m DataFrameFormatter(\n\u001b[0;32m   3764\u001b[0m     frame\u001b[39m=\u001b[39mdf,\n\u001b[0;32m   3765\u001b[0m     header\u001b[39m=\u001b[39mheader,\n\u001b[1;32m   (...)\u001b[0m\n\u001b[0;32m   3769\u001b[0m     decimal\u001b[39m=\u001b[39mdecimal,\n\u001b[0;32m   3770\u001b[0m )\n\u001b[1;32m-> 3772\u001b[0m \u001b[39mreturn\u001b[39;00m DataFrameRenderer(formatter)\u001b[39m.\u001b[39;49mto_csv(\n\u001b[0;32m   3773\u001b[0m     path_or_buf,\n\u001b[0;32m   3774\u001b[0m     lineterminator\u001b[39m=\u001b[39;49mlineterminator,\n\u001b[0;32m   3775\u001b[0m     sep\u001b[39m=\u001b[39;49msep,\n\u001b[0;32m   3776\u001b[0m     encoding\u001b[39m=\u001b[39;49mencoding,\n\u001b[0;32m   3777\u001b[0m     errors\u001b[39m=\u001b[39;49merrors,\n\u001b[0;32m   3778\u001b[0m     compression\u001b[39m=\u001b[39;49mcompression,\n\u001b[0;32m   3779\u001b[0m     quoting\u001b[39m=\u001b[39;49mquoting,\n\u001b[0;32m   3780\u001b[0m     columns\u001b[39m=\u001b[39;49mcolumns,\n\u001b[0;32m   3781\u001b[0m     index_label\u001b[39m=\u001b[39;49mindex_label,\n\u001b[0;32m   3782\u001b[0m     mode\u001b[39m=\u001b[39;49mmode,\n\u001b[0;32m   3783\u001b[0m     chunksize\u001b[39m=\u001b[39;49mchunksize,\n\u001b[0;32m   3784\u001b[0m     quotechar\u001b[39m=\u001b[39;49mquotechar,\n\u001b[0;32m   3785\u001b[0m     date_format\u001b[39m=\u001b[39;49mdate_format,\n\u001b[0;32m   3786\u001b[0m     doublequote\u001b[39m=\u001b[39;49mdoublequote,\n\u001b[0;32m   3787\u001b[0m     escapechar\u001b[39m=\u001b[39;49mescapechar,\n\u001b[0;32m   3788\u001b[0m     storage_options\u001b[39m=\u001b[39;49mstorage_options,\n\u001b[0;32m   3789\u001b[0m )\n",
      "File \u001b[1;32mc:\\Users\\34644\\AppData\\Local\\Programs\\Python\\Python311\\Lib\\site-packages\\pandas\\io\\formats\\format.py:1186\u001b[0m, in \u001b[0;36mDataFrameRenderer.to_csv\u001b[1;34m(self, path_or_buf, encoding, sep, columns, index_label, mode, compression, quoting, quotechar, lineterminator, chunksize, date_format, doublequote, escapechar, errors, storage_options)\u001b[0m\n\u001b[0;32m   1165\u001b[0m     created_buffer \u001b[39m=\u001b[39m \u001b[39mFalse\u001b[39;00m\n\u001b[0;32m   1167\u001b[0m csv_formatter \u001b[39m=\u001b[39m CSVFormatter(\n\u001b[0;32m   1168\u001b[0m     path_or_buf\u001b[39m=\u001b[39mpath_or_buf,\n\u001b[0;32m   1169\u001b[0m     lineterminator\u001b[39m=\u001b[39mlineterminator,\n\u001b[1;32m   (...)\u001b[0m\n\u001b[0;32m   1184\u001b[0m     formatter\u001b[39m=\u001b[39m\u001b[39mself\u001b[39m\u001b[39m.\u001b[39mfmt,\n\u001b[0;32m   1185\u001b[0m )\n\u001b[1;32m-> 1186\u001b[0m csv_formatter\u001b[39m.\u001b[39;49msave()\n\u001b[0;32m   1188\u001b[0m \u001b[39mif\u001b[39;00m created_buffer:\n\u001b[0;32m   1189\u001b[0m     \u001b[39massert\u001b[39;00m \u001b[39misinstance\u001b[39m(path_or_buf, StringIO)\n",
      "File \u001b[1;32mc:\\Users\\34644\\AppData\\Local\\Programs\\Python\\Python311\\Lib\\site-packages\\pandas\\io\\formats\\csvs.py:240\u001b[0m, in \u001b[0;36mCSVFormatter.save\u001b[1;34m(self)\u001b[0m\n\u001b[0;32m    236\u001b[0m \u001b[39m\u001b[39m\u001b[39m\"\"\"\u001b[39;00m\n\u001b[0;32m    237\u001b[0m \u001b[39mCreate the writer & save.\u001b[39;00m\n\u001b[0;32m    238\u001b[0m \u001b[39m\"\"\"\u001b[39;00m\n\u001b[0;32m    239\u001b[0m \u001b[39m# apply compression and byte/text conversion\u001b[39;00m\n\u001b[1;32m--> 240\u001b[0m \u001b[39mwith\u001b[39;00m get_handle(\n\u001b[0;32m    241\u001b[0m     \u001b[39mself\u001b[39;49m\u001b[39m.\u001b[39;49mfilepath_or_buffer,\n\u001b[0;32m    242\u001b[0m     \u001b[39mself\u001b[39;49m\u001b[39m.\u001b[39;49mmode,\n\u001b[0;32m    243\u001b[0m     encoding\u001b[39m=\u001b[39;49m\u001b[39mself\u001b[39;49m\u001b[39m.\u001b[39;49mencoding,\n\u001b[0;32m    244\u001b[0m     errors\u001b[39m=\u001b[39;49m\u001b[39mself\u001b[39;49m\u001b[39m.\u001b[39;49merrors,\n\u001b[0;32m    245\u001b[0m     compression\u001b[39m=\u001b[39;49m\u001b[39mself\u001b[39;49m\u001b[39m.\u001b[39;49mcompression,\n\u001b[0;32m    246\u001b[0m     storage_options\u001b[39m=\u001b[39;49m\u001b[39mself\u001b[39;49m\u001b[39m.\u001b[39;49mstorage_options,\n\u001b[0;32m    247\u001b[0m ) \u001b[39mas\u001b[39;00m handles:\n\u001b[0;32m    248\u001b[0m     \u001b[39m# Note: self.encoding is irrelevant here\u001b[39;00m\n\u001b[0;32m    249\u001b[0m     \u001b[39mself\u001b[39m\u001b[39m.\u001b[39mwriter \u001b[39m=\u001b[39m csvlib\u001b[39m.\u001b[39mwriter(\n\u001b[0;32m    250\u001b[0m         handles\u001b[39m.\u001b[39mhandle,\n\u001b[0;32m    251\u001b[0m         lineterminator\u001b[39m=\u001b[39m\u001b[39mself\u001b[39m\u001b[39m.\u001b[39mlineterminator,\n\u001b[1;32m   (...)\u001b[0m\n\u001b[0;32m    256\u001b[0m         quotechar\u001b[39m=\u001b[39m\u001b[39mself\u001b[39m\u001b[39m.\u001b[39mquotechar,\n\u001b[0;32m    257\u001b[0m     )\n\u001b[0;32m    259\u001b[0m     \u001b[39mself\u001b[39m\u001b[39m.\u001b[39m_save()\n",
      "File \u001b[1;32mc:\\Users\\34644\\AppData\\Local\\Programs\\Python\\Python311\\Lib\\site-packages\\pandas\\io\\common.py:859\u001b[0m, in \u001b[0;36mget_handle\u001b[1;34m(path_or_buf, mode, encoding, compression, memory_map, is_text, errors, storage_options)\u001b[0m\n\u001b[0;32m    854\u001b[0m \u001b[39melif\u001b[39;00m \u001b[39misinstance\u001b[39m(handle, \u001b[39mstr\u001b[39m):\n\u001b[0;32m    855\u001b[0m     \u001b[39m# Check whether the filename is to be opened in binary mode.\u001b[39;00m\n\u001b[0;32m    856\u001b[0m     \u001b[39m# Binary mode does not support 'encoding' and 'newline'.\u001b[39;00m\n\u001b[0;32m    857\u001b[0m     \u001b[39mif\u001b[39;00m ioargs\u001b[39m.\u001b[39mencoding \u001b[39mand\u001b[39;00m \u001b[39m\"\u001b[39m\u001b[39mb\u001b[39m\u001b[39m\"\u001b[39m \u001b[39mnot\u001b[39;00m \u001b[39min\u001b[39;00m ioargs\u001b[39m.\u001b[39mmode:\n\u001b[0;32m    858\u001b[0m         \u001b[39m# Encoding\u001b[39;00m\n\u001b[1;32m--> 859\u001b[0m         handle \u001b[39m=\u001b[39m \u001b[39mopen\u001b[39;49m(\n\u001b[0;32m    860\u001b[0m             handle,\n\u001b[0;32m    861\u001b[0m             ioargs\u001b[39m.\u001b[39;49mmode,\n\u001b[0;32m    862\u001b[0m             encoding\u001b[39m=\u001b[39;49mioargs\u001b[39m.\u001b[39;49mencoding,\n\u001b[0;32m    863\u001b[0m             errors\u001b[39m=\u001b[39;49merrors,\n\u001b[0;32m    864\u001b[0m             newline\u001b[39m=\u001b[39;49m\u001b[39m\"\u001b[39;49m\u001b[39m\"\u001b[39;49m,\n\u001b[0;32m    865\u001b[0m         )\n\u001b[0;32m    866\u001b[0m     \u001b[39melse\u001b[39;00m:\n\u001b[0;32m    867\u001b[0m         \u001b[39m# Binary mode\u001b[39;00m\n\u001b[0;32m    868\u001b[0m         handle \u001b[39m=\u001b[39m \u001b[39mopen\u001b[39m(handle, ioargs\u001b[39m.\u001b[39mmode)\n",
      "\u001b[1;31mPermissionError\u001b[0m: [Errno 13] Permission denied: '../../data/clean/'"
     ]
    }
   ],
   "source": [
    "df_aux.to_csv('../../data/clean/', index=False)"
   ]
  }
 ],
 "metadata": {
  "kernelspec": {
   "display_name": "Python 3",
   "language": "python",
   "name": "python3"
  },
  "language_info": {
   "codemirror_mode": {
    "name": "ipython",
    "version": 3
   },
   "file_extension": ".py",
   "mimetype": "text/x-python",
   "name": "python",
   "nbconvert_exporter": "python",
   "pygments_lexer": "ipython3",
   "version": "3.11.1"
  }
 },
 "nbformat": 4,
 "nbformat_minor": 2
}

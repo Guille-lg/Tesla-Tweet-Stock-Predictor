{
 "cells": [
  {
   "cell_type": "markdown",
   "metadata": {},
   "source": [
    "## Etiquetado de tweets"
   ]
  },
  {
   "cell_type": "code",
   "execution_count": 70,
   "metadata": {},
   "outputs": [],
   "source": [
    "import pandas as pd\n",
    "import os\n",
    "from dotenv import load_dotenv\n",
    "import openai\n",
    "\n",
    "load_dotenv()\n",
    "openai.api_key = os.getenv(\"OPENAI_API_KEY\")"
   ]
  },
  {
   "cell_type": "code",
   "execution_count": 71,
   "metadata": {},
   "outputs": [],
   "source": [
    "system_prompt = \"\"\"You are a data scientist labelling tweets. Given a tweet, classify it into one of the following categories:\n",
    "\n",
    "Tesla Products\n",
    "Customer Experience\n",
    "Performance & Innovation\n",
    "Financial News\n",
    "Environmental Impact\n",
    "Industry News\n",
    "Charging Infrastructure\n",
    "\n",
    "If the tweet does not clearly fit into any of these categories or is not relevant, classify it as \"Not relevant\".\n",
    "\n",
    "Example:\n",
    "\n",
    "Tweet:\n",
    "\n",
    "Tesla's new Model S Plaid is the fastest production car ever made!\n",
    "\n",
    "Category:\n",
    "\n",
    "Tesla Products\n",
    "\n",
    "Example:\n",
    "\n",
    "Tweet:\n",
    "\n",
    "I'm having a terrible time with Tesla customer service. They've been ignoring my emails for weeks.\n",
    "\n",
    "Category:\n",
    "\n",
    "Customer Experience\n",
    "\n",
    "I want you to be very rigorous with the labelling. You have to respond with the following phrase: Category: [response]\"\"\""
   ]
  },
  {
   "cell_type": "code",
   "execution_count": 72,
   "metadata": {},
   "outputs": [
    {
     "data": {
      "text/html": [
       "<div>\n",
       "<style scoped>\n",
       "    .dataframe tbody tr th:only-of-type {\n",
       "        vertical-align: middle;\n",
       "    }\n",
       "\n",
       "    .dataframe tbody tr th {\n",
       "        vertical-align: top;\n",
       "    }\n",
       "\n",
       "    .dataframe thead th {\n",
       "        text-align: right;\n",
       "    }\n",
       "</style>\n",
       "<table border=\"1\" class=\"dataframe\">\n",
       "  <thead>\n",
       "    <tr style=\"text-align: right;\">\n",
       "      <th></th>\n",
       "      <th>Link</th>\n",
       "      <th>Date</th>\n",
       "      <th>Text</th>\n",
       "    </tr>\n",
       "  </thead>\n",
       "  <tbody>\n",
       "    <tr>\n",
       "      <th>0</th>\n",
       "      <td>https://twitter.com/Jessica1988kk/status/15131...</td>\n",
       "      <td>2022-04-10 19:44:00</td>\n",
       "      <td>Crypto news Bitcoin Whales flying motorbikes ...</td>\n",
       "    </tr>\n",
       "    <tr>\n",
       "      <th>1</th>\n",
       "      <td>https://twitter.com/MmeCallas/status/151317374...</td>\n",
       "      <td>2022-04-10 19:45:00</td>\n",
       "      <td>love in my MariaCallas I KNOW Y art HOLDonLIN...</td>\n",
       "    </tr>\n",
       "    <tr>\n",
       "      <th>2</th>\n",
       "      <td>https://twitter.com/BotSecx/status/15131737626...</td>\n",
       "      <td>2022-04-10 19:45:00</td>\n",
       "      <td>love in my MariaCallas I KNOW Y art HOLDonLIN...</td>\n",
       "    </tr>\n",
       "    <tr>\n",
       "      <th>3</th>\n",
       "      <td>https://twitter.com/ElTendies/status/151317393...</td>\n",
       "      <td>2022-04-10 19:45:00</td>\n",
       "      <td>Tesla  A Trillion Dollar Company Worlds Large...</td>\n",
       "    </tr>\n",
       "    <tr>\n",
       "      <th>4</th>\n",
       "      <td>https://twitter.com/LauraCory2013/status/15131...</td>\n",
       "      <td>2022-04-10 19:45:00</td>\n",
       "      <td>few chargingstations in my area I dont have a...</td>\n",
       "    </tr>\n",
       "  </tbody>\n",
       "</table>\n",
       "</div>"
      ],
      "text/plain": [
       "                                                Link                 Date  \\\n",
       "0  https://twitter.com/Jessica1988kk/status/15131...  2022-04-10 19:44:00   \n",
       "1  https://twitter.com/MmeCallas/status/151317374...  2022-04-10 19:45:00   \n",
       "2  https://twitter.com/BotSecx/status/15131737626...  2022-04-10 19:45:00   \n",
       "3  https://twitter.com/ElTendies/status/151317393...  2022-04-10 19:45:00   \n",
       "4  https://twitter.com/LauraCory2013/status/15131...  2022-04-10 19:45:00   \n",
       "\n",
       "                                                Text  \n",
       "0   Crypto news Bitcoin Whales flying motorbikes ...  \n",
       "1   love in my MariaCallas I KNOW Y art HOLDonLIN...  \n",
       "2   love in my MariaCallas I KNOW Y art HOLDonLIN...  \n",
       "3   Tesla  A Trillion Dollar Company Worlds Large...  \n",
       "4   few chargingstations in my area I dont have a...  "
      ]
     },
     "execution_count": 72,
     "metadata": {},
     "output_type": "execute_result"
    }
   ],
   "source": [
    "df = pd.read_csv('../../data/clean/tesla_tweets_clean.csv')\n",
    "test_df = df.sample(10)\n",
    "df.head()"
   ]
  },
  {
   "cell_type": "code",
   "execution_count": 75,
   "metadata": {},
   "outputs": [
    {
     "name": "stdout",
     "output_type": "stream",
     "text": [
      "Category: Not relevant\n",
      "Category: Not relevant\n",
      "Category: Not relevant\n",
      "Category: Financial News\n",
      "Category: Industry News\n",
      "Category: Not relevant\n",
      "Category: Financial News\n",
      "Category: Tesla Products\n",
      "Category: Not relevant\n",
      "Category: Tesla Products\n"
     ]
    }
   ],
   "source": [
    "df_labelled = pd.DataFrame(columns=['Link', 'Date', 'Text', 'Category'])\n",
    "\n",
    "for index, row in test_df.iterrows():\n",
    "    completion = openai.ChatCompletion.create(\n",
    "      model=\"gpt-3.5-turbo\",\n",
    "      messages=[\n",
    "        {\"role\": \"system\", \"content\": system_prompt},\n",
    "        {\"role\": \"user\", \"content\": row['Text']}\n",
    "      ],\n",
    "        max_tokens=10,\n",
    "        temperature=0.9,\n",
    "    )\n",
    "    answer = completion.choices[0].message['content'].replace('Category: ', '')"
   ]
  }
 ],
 "metadata": {
  "kernelspec": {
   "display_name": "Python 3",
   "language": "python",
   "name": "python3"
  },
  "language_info": {
   "codemirror_mode": {
    "name": "ipython",
    "version": 3
   },
   "file_extension": ".py",
   "mimetype": "text/x-python",
   "name": "python",
   "nbconvert_exporter": "python",
   "pygments_lexer": "ipython3",
   "version": "3.11.1"
  }
 },
 "nbformat": 4,
 "nbformat_minor": 2
}

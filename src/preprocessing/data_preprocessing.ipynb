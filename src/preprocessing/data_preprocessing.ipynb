{
 "cells": [
  {
   "cell_type": "markdown",
   "metadata": {},
   "source": [
    "# Preprocesamiento de datos (Tweets)\n",
    "\n",
    "En este notebook se realiza el preprocesamiento de los datos que contienen los tweets para el entrenamiento de los modelos de aprendizaje automático extraidos de HuggingFace. Los datos han dido extraídos de la plataforma de Kaggle, en el siguiente [enlace](https://www.kaggle.com/datasets/alishafaghi/hashtag-tesla-tweets). El dataset contiene más de 150.000 tweets etiquetados con #tesla.\n",
    "\n",
    "El objetivo es obtener un dataset con una única columna de tweets en inglés, para su posterior etiquetado por parte del alumno. El etiquetado de datos será discutido en la memoria, y realizado en los scripts de la carpeta `labelling`."
   ]
  },
  {
   "cell_type": "code",
   "execution_count": 1,
   "metadata": {},
   "outputs": [
    {
     "name": "stderr",
     "output_type": "stream",
     "text": [
      "[nltk_data] Downloading package stopwords to\n",
      "[nltk_data]     C:\\Users\\34644\\AppData\\Roaming\\nltk_data...\n",
      "[nltk_data]   Package stopwords is already up-to-date!\n"
     ]
    }
   ],
   "source": [
    "import pandas as pd\n",
    "import yfinance as yf\n",
    "from langdetect import detect\n",
    "import preprocessor as p\n",
    "import string\n",
    "import time\n",
    "from sklearn.preprocessing import MinMaxScaler\n",
    "from sklearn.decomposition import PCA\n",
    "import nltk\n",
    "from nltk.corpus import stopwords\n",
    "\n",
    "\n",
    "nltk.download('stopwords')\n",
    "p.set_options(p.OPT.URL, p.OPT.EMOJI, p.OPT.MENTION, p.OPT.RESERVED, p.OPT.SMILEY, p.OPT.NUMBER)"
   ]
  },
  {
   "cell_type": "markdown",
   "metadata": {},
   "source": [
    "## Preprocesamiento del dataset de tweets"
   ]
  },
  {
   "cell_type": "markdown",
   "metadata": {},
   "source": [
    "### Overview\n",
    "\n",
    "En esta sección se realiza la carga de datos y análisis de alto nivel del datafrfame"
   ]
  },
  {
   "cell_type": "code",
   "execution_count": 5,
   "metadata": {},
   "outputs": [
    {
     "data": {
      "text/html": [
       "<div>\n",
       "<style scoped>\n",
       "    .dataframe tbody tr th:only-of-type {\n",
       "        vertical-align: middle;\n",
       "    }\n",
       "\n",
       "    .dataframe tbody tr th {\n",
       "        vertical-align: top;\n",
       "    }\n",
       "\n",
       "    .dataframe thead th {\n",
       "        text-align: right;\n",
       "    }\n",
       "</style>\n",
       "<table border=\"1\" class=\"dataframe\">\n",
       "  <thead>\n",
       "    <tr style=\"text-align: right;\">\n",
       "      <th></th>\n",
       "      <th>Date &amp; Time</th>\n",
       "      <th>Profile Picture Link</th>\n",
       "      <th>Twitter ID</th>\n",
       "      <th>Tweet Text</th>\n",
       "      <th>Tweet Link</th>\n",
       "    </tr>\n",
       "  </thead>\n",
       "  <tbody>\n",
       "    <tr>\n",
       "      <th>21236</th>\n",
       "      <td>May 13, 2022 at 06:16AM</td>\n",
       "      <td>http://pbs.twimg.com/profile_images/152205270...</td>\n",
       "      <td>@Benoitclair</td>\n",
       "      <td>Quand tu découvres que Buzz #Aldrin ⁦@TheRealB...</td>\n",
       "      <td>https://twitter.com/Benoitclair/status/1524928...</td>\n",
       "    </tr>\n",
       "    <tr>\n",
       "      <th>113650</th>\n",
       "      <td>September 19, 2022 at 07:13PM</td>\n",
       "      <td>http://pbs.twimg.com/profile_images/143372654...</td>\n",
       "      <td>@XeronBot</td>\n",
       "      <td>RT @VeilleCyber3: An #AI used #medical #notes ...</td>\n",
       "      <td>https://twitter.com/XeronBot/status/1571872527...</td>\n",
       "    </tr>\n",
       "    <tr>\n",
       "      <th>118741</th>\n",
       "      <td>September 26, 2022 at 08:08PM</td>\n",
       "      <td>http://pbs.twimg.com/profile_images/121896452...</td>\n",
       "      <td>@TeslaradarB</td>\n",
       "      <td>Ahoy! Taurec just spotted a 2022 Tesla Model Y...</td>\n",
       "      <td>https://twitter.com/TeslaradarB/status/1574438...</td>\n",
       "    </tr>\n",
       "    <tr>\n",
       "      <th>129744</th>\n",
       "      <td>October 12, 2022 at 06:12AM</td>\n",
       "      <td>http://pbs.twimg.com/profile_images/138533407...</td>\n",
       "      <td>@ESGESG1001</td>\n",
       "      <td>RT @TeslaAndDoge: I don’t get it. How is #Amaz...</td>\n",
       "      <td>https://twitter.com/ESGESG1001/status/15800260...</td>\n",
       "    </tr>\n",
       "    <tr>\n",
       "      <th>50673</th>\n",
       "      <td>June 23, 2022 at 09:11AM</td>\n",
       "      <td>http://pbs.twimg.com/profile_images/153778715...</td>\n",
       "      <td>@nimanaamvar</td>\n",
       "      <td>@LeafsOfTea @SteveHakaStumpy @ValueAnalyst1 It...</td>\n",
       "      <td>https://twitter.com/nimanaamvar/status/1539830...</td>\n",
       "    </tr>\n",
       "  </tbody>\n",
       "</table>\n",
       "</div>"
      ],
      "text/plain": [
       "                          Date & Time  \\\n",
       "21236         May 13, 2022 at 06:16AM   \n",
       "113650  September 19, 2022 at 07:13PM   \n",
       "118741  September 26, 2022 at 08:08PM   \n",
       "129744    October 12, 2022 at 06:12AM   \n",
       "50673        June 23, 2022 at 09:11AM   \n",
       "\n",
       "                                     Profile Picture Link    Twitter ID  \\\n",
       "21236    http://pbs.twimg.com/profile_images/152205270...  @Benoitclair   \n",
       "113650   http://pbs.twimg.com/profile_images/143372654...     @XeronBot   \n",
       "118741   http://pbs.twimg.com/profile_images/121896452...  @TeslaradarB   \n",
       "129744   http://pbs.twimg.com/profile_images/138533407...   @ESGESG1001   \n",
       "50673    http://pbs.twimg.com/profile_images/153778715...  @nimanaamvar   \n",
       "\n",
       "                                               Tweet Text  \\\n",
       "21236   Quand tu découvres que Buzz #Aldrin ⁦@TheRealB...   \n",
       "113650  RT @VeilleCyber3: An #AI used #medical #notes ...   \n",
       "118741  Ahoy! Taurec just spotted a 2022 Tesla Model Y...   \n",
       "129744  RT @TeslaAndDoge: I don’t get it. How is #Amaz...   \n",
       "50673   @LeafsOfTea @SteveHakaStumpy @ValueAnalyst1 It...   \n",
       "\n",
       "                                               Tweet Link  \n",
       "21236   https://twitter.com/Benoitclair/status/1524928...  \n",
       "113650  https://twitter.com/XeronBot/status/1571872527...  \n",
       "118741  https://twitter.com/TeslaradarB/status/1574438...  \n",
       "129744  https://twitter.com/ESGESG1001/status/15800260...  \n",
       "50673   https://twitter.com/nimanaamvar/status/1539830...  "
      ]
     },
     "execution_count": 5,
     "metadata": {},
     "output_type": "execute_result"
    }
   ],
   "source": [
    "df_tweets = pd.read_csv('../../data/raw/tesla_tweets.csv')\n",
    "df_tweets.sample(5)"
   ]
  },
  {
   "cell_type": "markdown",
   "metadata": {},
   "source": [
    "Como lo único que nos interesa es la columna de texto y su id, se descartan las demás columnas y se establece el tweet de cada post como índice del dataframe."
   ]
  },
  {
   "cell_type": "code",
   "execution_count": 6,
   "metadata": {},
   "outputs": [
    {
     "data": {
      "text/html": [
       "<div>\n",
       "<style scoped>\n",
       "    .dataframe tbody tr th:only-of-type {\n",
       "        vertical-align: middle;\n",
       "    }\n",
       "\n",
       "    .dataframe tbody tr th {\n",
       "        vertical-align: top;\n",
       "    }\n",
       "\n",
       "    .dataframe thead th {\n",
       "        text-align: right;\n",
       "    }\n",
       "</style>\n",
       "<table border=\"1\" class=\"dataframe\">\n",
       "  <thead>\n",
       "    <tr style=\"text-align: right;\">\n",
       "      <th></th>\n",
       "      <th>Link</th>\n",
       "      <th>Date</th>\n",
       "      <th>Text</th>\n",
       "    </tr>\n",
       "  </thead>\n",
       "  <tbody>\n",
       "    <tr>\n",
       "      <th>66109</th>\n",
       "      <td>https://twitter.com/socialstartnow1/status/154...</td>\n",
       "      <td>July 14, 2022 at 09:16PM</td>\n",
       "      <td>$SINC News https://t.co/6OFldXHLk2 #wsj #nytim...</td>\n",
       "    </tr>\n",
       "    <tr>\n",
       "      <th>48227</th>\n",
       "      <td>https://twitter.com/saryosal/status/1538604668...</td>\n",
       "      <td>June 19, 2022 at 11:58PM</td>\n",
       "      <td>RT @tribeofthought: I can't think of anyone wh...</td>\n",
       "    </tr>\n",
       "    <tr>\n",
       "      <th>44186</th>\n",
       "      <td>https://twitter.com/NowMyNews/status/153655378...</td>\n",
       "      <td>June 14, 2022 at 08:09AM</td>\n",
       "      <td>Tesla fires Singapore executives for a year af...</td>\n",
       "    </tr>\n",
       "    <tr>\n",
       "      <th>19910</th>\n",
       "      <td>https://twitter.com/SellTesla/status/152412970...</td>\n",
       "      <td>May 11, 2022 at 01:20AM</td>\n",
       "      <td>Just Sold: Model 3 Dec 2020 Performance Blue w...</td>\n",
       "    </tr>\n",
       "    <tr>\n",
       "      <th>108030</th>\n",
       "      <td>https://twitter.com/TeslaradarB/status/1569003...</td>\n",
       "      <td>September 11, 2022 at 09:14PM</td>\n",
       "      <td>Swell! Leon was first to spot a 2019 Tesla Mod...</td>\n",
       "    </tr>\n",
       "  </tbody>\n",
       "</table>\n",
       "</div>"
      ],
      "text/plain": [
       "                                                     Link  \\\n",
       "66109   https://twitter.com/socialstartnow1/status/154...   \n",
       "48227   https://twitter.com/saryosal/status/1538604668...   \n",
       "44186   https://twitter.com/NowMyNews/status/153655378...   \n",
       "19910   https://twitter.com/SellTesla/status/152412970...   \n",
       "108030  https://twitter.com/TeslaradarB/status/1569003...   \n",
       "\n",
       "                                 Date  \\\n",
       "66109        July 14, 2022 at 09:16PM   \n",
       "48227        June 19, 2022 at 11:58PM   \n",
       "44186        June 14, 2022 at 08:09AM   \n",
       "19910         May 11, 2022 at 01:20AM   \n",
       "108030  September 11, 2022 at 09:14PM   \n",
       "\n",
       "                                                     Text  \n",
       "66109   $SINC News https://t.co/6OFldXHLk2 #wsj #nytim...  \n",
       "48227   RT @tribeofthought: I can't think of anyone wh...  \n",
       "44186   Tesla fires Singapore executives for a year af...  \n",
       "19910   Just Sold: Model 3 Dec 2020 Performance Blue w...  \n",
       "108030  Swell! Leon was first to spot a 2019 Tesla Mod...  "
      ]
     },
     "execution_count": 6,
     "metadata": {},
     "output_type": "execute_result"
    }
   ],
   "source": [
    "\n",
    "selected_columns = ['Tweet Link','Date & Time','Tweet Text']\n",
    "df_tweets = df_tweets[selected_columns]\n",
    "df_tweets.rename(columns={'Tweet Text':'Text', 'Tweet Link' : 'Link', 'Date & Time' : 'Date'}, inplace=True)\n",
    "df_tweets.sample(5)"
   ]
  },
  {
   "cell_type": "code",
   "execution_count": 7,
   "metadata": {},
   "outputs": [
    {
     "name": "stdout",
     "output_type": "stream",
     "text": [
      "<class 'pandas.core.frame.DataFrame'>\n",
      "RangeIndex: 152000 entries, 0 to 151999\n",
      "Data columns (total 3 columns):\n",
      " #   Column  Non-Null Count   Dtype \n",
      "---  ------  --------------   ----- \n",
      " 0   Link    152000 non-null  object\n",
      " 1   Date    152000 non-null  object\n",
      " 2   Text    152000 non-null  object\n",
      "dtypes: object(3)\n",
      "memory usage: 3.5+ MB\n"
     ]
    }
   ],
   "source": [
    "df_tweets.info()"
   ]
  },
  {
   "cell_type": "markdown",
   "metadata": {},
   "source": [
    "Comprobamos que la columna de fecha no está en formato datetime, por lo que se convierte a dicho formato. "
   ]
  },
  {
   "cell_type": "code",
   "execution_count": 8,
   "metadata": {},
   "outputs": [
    {
     "name": "stdout",
     "output_type": "stream",
     "text": [
      "<class 'pandas.core.frame.DataFrame'>\n",
      "RangeIndex: 152000 entries, 0 to 151999\n",
      "Data columns (total 3 columns):\n",
      " #   Column  Non-Null Count   Dtype         \n",
      "---  ------  --------------   -----         \n",
      " 0   Link    152000 non-null  object        \n",
      " 1   Date    152000 non-null  datetime64[ns]\n",
      " 2   Text    152000 non-null  object        \n",
      "dtypes: datetime64[ns](1), object(2)\n",
      "memory usage: 3.5+ MB\n",
      "None\n"
     ]
    },
    {
     "data": {
      "text/html": [
       "<div>\n",
       "<style scoped>\n",
       "    .dataframe tbody tr th:only-of-type {\n",
       "        vertical-align: middle;\n",
       "    }\n",
       "\n",
       "    .dataframe tbody tr th {\n",
       "        vertical-align: top;\n",
       "    }\n",
       "\n",
       "    .dataframe thead th {\n",
       "        text-align: right;\n",
       "    }\n",
       "</style>\n",
       "<table border=\"1\" class=\"dataframe\">\n",
       "  <thead>\n",
       "    <tr style=\"text-align: right;\">\n",
       "      <th></th>\n",
       "      <th>Link</th>\n",
       "      <th>Date</th>\n",
       "      <th>Text</th>\n",
       "    </tr>\n",
       "  </thead>\n",
       "  <tbody>\n",
       "    <tr>\n",
       "      <th>0</th>\n",
       "      <td>https://twitter.com/Jessica1988kk/status/15131...</td>\n",
       "      <td>2022-04-10 19:44:00</td>\n",
       "      <td>RT @invest_answers: Crypto news, #Bitcoin Whal...</td>\n",
       "    </tr>\n",
       "    <tr>\n",
       "      <th>1</th>\n",
       "      <td>https://twitter.com/JotaGe2014/status/15131737...</td>\n",
       "      <td>2022-04-10 19:45:00</td>\n",
       "      <td>#Tesla tiene récord de autos vendidos. Es impr...</td>\n",
       "    </tr>\n",
       "    <tr>\n",
       "      <th>2</th>\n",
       "      <td>https://twitter.com/MmeCallas/status/151317374...</td>\n",
       "      <td>2022-04-10 19:45:00</td>\n",
       "      <td>RT @CottonCodes: 🐒 #love in my #MariaCallas I ...</td>\n",
       "    </tr>\n",
       "    <tr>\n",
       "      <th>3</th>\n",
       "      <td>https://twitter.com/BotSecx/status/15131737626...</td>\n",
       "      <td>2022-04-10 19:45:00</td>\n",
       "      <td>RT @CottonCodes: 🐒 #love in my #MariaCallas I ...</td>\n",
       "    </tr>\n",
       "    <tr>\n",
       "      <th>4</th>\n",
       "      <td>https://twitter.com/agseh/status/1513173864829...</td>\n",
       "      <td>2022-04-10 19:45:00</td>\n",
       "      <td>RT @RupiReportero_: 🙆‍♂️🚘 Al que le robaron la...</td>\n",
       "    </tr>\n",
       "  </tbody>\n",
       "</table>\n",
       "</div>"
      ],
      "text/plain": [
       "                                                Link                Date  \\\n",
       "0  https://twitter.com/Jessica1988kk/status/15131... 2022-04-10 19:44:00   \n",
       "1  https://twitter.com/JotaGe2014/status/15131737... 2022-04-10 19:45:00   \n",
       "2  https://twitter.com/MmeCallas/status/151317374... 2022-04-10 19:45:00   \n",
       "3  https://twitter.com/BotSecx/status/15131737626... 2022-04-10 19:45:00   \n",
       "4  https://twitter.com/agseh/status/1513173864829... 2022-04-10 19:45:00   \n",
       "\n",
       "                                                Text  \n",
       "0  RT @invest_answers: Crypto news, #Bitcoin Whal...  \n",
       "1  #Tesla tiene récord de autos vendidos. Es impr...  \n",
       "2  RT @CottonCodes: 🐒 #love in my #MariaCallas I ...  \n",
       "3  RT @CottonCodes: 🐒 #love in my #MariaCallas I ...  \n",
       "4  RT @RupiReportero_: 🙆‍♂️🚘 Al que le robaron la...  "
      ]
     },
     "execution_count": 8,
     "metadata": {},
     "output_type": "execute_result"
    }
   ],
   "source": [
    "df_tweets['Date'] = pd.to_datetime(df_tweets['Date'], format='mixed') # dejamos que pandas infiera el formato de fecha con el formato mixed\n",
    "print(df_tweets.info())\n",
    "df_tweets.head(5)"
   ]
  },
  {
   "cell_type": "markdown",
   "metadata": {},
   "source": [
    "### Limpieza de datos\n",
    "\n",
    "Se comprueba si existen valores nulos o atípicos, además de comprobar si existen tweets duplicados.\n"
   ]
  },
  {
   "cell_type": "code",
   "execution_count": 9,
   "metadata": {},
   "outputs": [
    {
     "data": {
      "text/plain": [
       "Link    0\n",
       "Date    0\n",
       "Text    0\n",
       "dtype: int64"
      ]
     },
     "execution_count": 9,
     "metadata": {},
     "output_type": "execute_result"
    }
   ],
   "source": [
    "df_tweets.isnull().sum()"
   ]
  },
  {
   "cell_type": "markdown",
   "metadata": {},
   "source": [
    "Al ser la fecha de publicación del tweet y el propio tweet en cuestion variables de tipos distintos, se hace su análisis por separado.\n",
    "\n",
    "En la descripción del dataset en la página de Kaggle se indica que los tweets han sido extraídos entre Abril de 2022 y Noviembre de 2022. Por lo que se comprueba que no existen tweets con fecha anterior al 1 de enero de 2020. Comprobamos que no existen tweets con fechas posteriores ni anteriorers a las indicadas."
   ]
  },
  {
   "cell_type": "code",
   "execution_count": 10,
   "metadata": {},
   "outputs": [
    {
     "data": {
      "text/plain": [
       "(Timestamp('2022-04-10 19:44:00'), Timestamp('2022-11-12 15:11:00'))"
      ]
     },
     "execution_count": 10,
     "metadata": {},
     "output_type": "execute_result"
    }
   ],
   "source": [
    "# Análisis de valores atípicos en la columna de fecha\n",
    "\n",
    "(df_tweets['Date'].min(),\n",
    "df_tweets['Date'].max())"
   ]
  },
  {
   "cell_type": "markdown",
   "metadata": {},
   "source": [
    "### Preparación de la columna de text\n",
    "\n",
    "En esta sección se realiza la limpieza de la columna de texto.Se eliminan los caracteres especiales, las menciones, los enlaces y los emojis utilizando la librería [tweet preprocessor](https://pypi.org/project/tweet-preprocessor/). Se convierte todo el texto a minúsculas, y seleccionamos sólo los tweets en inglés.\t\n",
    "\n",
    "Sería interesante poder elegir otros idiomas aparte del inglés para el etiquetado de datos, pero por simplicidad se ha decidido utilizar sólo el inglés, ya que es el idioma más utilizado en la plataforma de Twitter. Sería posible utilizar modelos preentrenados para la clasificación de sentimientos en diferentes idiomas, pero se ha decidido utilizar sólo el inglés para simplificar el proceso de etiquetado."
   ]
  },
  {
   "cell_type": "code",
   "execution_count": 11,
   "metadata": {},
   "outputs": [
    {
     "name": "stdout",
     "output_type": "stream",
     "text": [
      "Progreso: 0 / 152000 = 0.0 %\n",
      "Tiempo transcurrido: 0.5858159065246582 segundos\n"
     ]
    }
   ],
   "source": [
    "#dataframe vacío para almacenar los tweets que son en inglés\n",
    "i = 0\n",
    "df_aux = pd.DataFrame(columns=['Link','Date','Text'])\n",
    "p.set_options(p.OPT.URL, p.OPT.EMOJI, p.OPT.MENTION, p.OPT.RESERVED, p.OPT.SMILEY, p.OPT.NUMBER)\n",
    "start_time = time.time()\n",
    "\n",
    "for index, row in df_tweets.iterrows():\n",
    "    cleaned_text = p.clean(row['Text'])  # Limpia el texto y guarda el resultado\n",
    "\n",
    "    # Esta celda tarda mucho, por lo que si se desea saber el progreso se puede imprimir el porcentaje de tweets procesados\n",
    "    if i % (len(df_tweets.index)/10) == 0:\n",
    "        print('Progreso:',i,'/',len(df_tweets.index),'=',i/len(df_tweets.index)*100,'%')\n",
    "        print('Tiempo transcurrido:',time.time()-start_time,'segundos')\n",
    "    i+=1\n",
    "    \n",
    "    try:\n",
    "        if detect(cleaned_text) == 'en': # Si el texto está en inglés, lo guardamos en el dataframe auxiliar\n",
    "            df_aux.loc[len(df_aux.index)] = [row['Link'], row['Date'], cleaned_text]\n",
    "    except:\n",
    "        pass\n"
   ]
  },
  {
   "cell_type": "code",
   "execution_count": null,
   "metadata": {},
   "outputs": [
    {
     "name": "stdout",
     "output_type": "stream",
     "text": [
      "124705\n"
     ]
    },
    {
     "data": {
      "text/html": [
       "<div>\n",
       "<style scoped>\n",
       "    .dataframe tbody tr th:only-of-type {\n",
       "        vertical-align: middle;\n",
       "    }\n",
       "\n",
       "    .dataframe tbody tr th {\n",
       "        vertical-align: top;\n",
       "    }\n",
       "\n",
       "    .dataframe thead th {\n",
       "        text-align: right;\n",
       "    }\n",
       "</style>\n",
       "<table border=\"1\" class=\"dataframe\">\n",
       "  <thead>\n",
       "    <tr style=\"text-align: right;\">\n",
       "      <th></th>\n",
       "      <th>Link</th>\n",
       "      <th>Date</th>\n",
       "      <th>Text</th>\n",
       "    </tr>\n",
       "  </thead>\n",
       "  <tbody>\n",
       "    <tr>\n",
       "      <th>0</th>\n",
       "      <td>https://twitter.com/Jessica1988kk/status/15131...</td>\n",
       "      <td>2022-04-10 19:44:00</td>\n",
       "      <td>Crypto news Bitcoin Whales flying motorbikes ...</td>\n",
       "    </tr>\n",
       "    <tr>\n",
       "      <th>1</th>\n",
       "      <td>https://twitter.com/MmeCallas/status/151317374...</td>\n",
       "      <td>2022-04-10 19:45:00</td>\n",
       "      <td>love in my MariaCallas I KNOW Y art HOLDonLIN...</td>\n",
       "    </tr>\n",
       "    <tr>\n",
       "      <th>2</th>\n",
       "      <td>https://twitter.com/BotSecx/status/15131737626...</td>\n",
       "      <td>2022-04-10 19:45:00</td>\n",
       "      <td>love in my MariaCallas I KNOW Y art HOLDonLIN...</td>\n",
       "    </tr>\n",
       "    <tr>\n",
       "      <th>3</th>\n",
       "      <td>https://twitter.com/ElTendies/status/151317393...</td>\n",
       "      <td>2022-04-10 19:45:00</td>\n",
       "      <td>Tesla  A Trillion Dollar Company Worlds Large...</td>\n",
       "    </tr>\n",
       "    <tr>\n",
       "      <th>4</th>\n",
       "      <td>https://twitter.com/LauraCory2013/status/15131...</td>\n",
       "      <td>2022-04-10 19:45:00</td>\n",
       "      <td>few chargingstations in my area I dont have a...</td>\n",
       "    </tr>\n",
       "  </tbody>\n",
       "</table>\n",
       "</div>"
      ],
      "text/plain": [
       "                                                Link                Date  \\\n",
       "0  https://twitter.com/Jessica1988kk/status/15131... 2022-04-10 19:44:00   \n",
       "1  https://twitter.com/MmeCallas/status/151317374... 2022-04-10 19:45:00   \n",
       "2  https://twitter.com/BotSecx/status/15131737626... 2022-04-10 19:45:00   \n",
       "3  https://twitter.com/ElTendies/status/151317393... 2022-04-10 19:45:00   \n",
       "4  https://twitter.com/LauraCory2013/status/15131... 2022-04-10 19:45:00   \n",
       "\n",
       "                                                Text  \n",
       "0   Crypto news Bitcoin Whales flying motorbikes ...  \n",
       "1   love in my MariaCallas I KNOW Y art HOLDonLIN...  \n",
       "2   love in my MariaCallas I KNOW Y art HOLDonLIN...  \n",
       "3   Tesla  A Trillion Dollar Company Worlds Large...  \n",
       "4   few chargingstations in my area I dont have a...  "
      ]
     },
     "execution_count": 21,
     "metadata": {},
     "output_type": "execute_result"
    }
   ],
   "source": [
    "def eliminar_puntuacion(text):\n",
    "    return text.translate(str.maketrans('', '', string.punctuation))\n",
    "\n",
    "def eliminar_stopwords(text):\n",
    "    return ' '.join([word for word in text.split() if word not in stop_words])\n",
    "\n",
    "stop_words = set(stopwords.words('english'))\n",
    "\n",
    "df_aux['Text'] = df_aux['Text'].apply(eliminar_puntuacion)\n",
    "df_aux['Text'] = df_aux['Text'].apply(eliminar_stopwords)\n",
    "\n",
    "print(len(df_aux.index))\n",
    "df_aux.head(5)"
   ]
  },
  {
   "cell_type": "markdown",
   "metadata": {},
   "source": [
    "Como también fue notado en la caracterización de los datos, existen días que los mercados no están abiertos y por tanto no hay observaciones de las acciones. La estrategia de entrenamiento de los modelos de aprendizaje automático será la de predecir el precio de las acciones al día siguiente, por lo que se decide eliminar los tweets de los días en los que no hay observaciones de las acciones."
   ]
  },
  {
   "cell_type": "code",
   "execution_count": null,
   "metadata": {},
   "outputs": [],
   "source": [
    "df_stocks = pd.read_csv('../../data/raw/tesla_stocks.csv')\n",
    "df_stocks['Date'] = pd.to_datetime(df_stocks['Date'], format='%Y-%m-%d')\n",
    "\n",
    "df_copy = df_aux.copy()\n",
    "\n",
    "\"\"\"\n",
    "for date in df_copy['Date']:\n",
    "    if date not in df_stocks['Date'].values:\n",
    "        df_copy = df_copy[df_aux.Date != date]\n",
    "\"\"\" \n",
    "\n",
    "mask = df_copy['Date'].isin(df_stocks['Date'])\n",
    "df_copy = df_copy[mask]\n",
    "\n",
    "print(len(df_copy.index))\n"
   ]
  },
  {
   "cell_type": "code",
   "execution_count": null,
   "metadata": {},
   "outputs": [],
   "source": [
    "df_clean = df_aux.sample(1000)\n",
    "df_clean.to_csv('../data/tesla_tweets_clean_random.csv', index=False)\n",
    "df_aux.to_csv('../data/tesla_tweets_clean.csv', index=False)"
   ]
  }
 ],
 "metadata": {
  "kernelspec": {
   "display_name": "Python 3",
   "language": "python",
   "name": "python3"
  },
  "language_info": {
   "codemirror_mode": {
    "name": "ipython",
    "version": 3
   },
   "file_extension": ".py",
   "mimetype": "text/x-python",
   "name": "python",
   "nbconvert_exporter": "python",
   "pygments_lexer": "ipython3",
   "version": "3.11.1"
  }
 },
 "nbformat": 4,
 "nbformat_minor": 2
}
